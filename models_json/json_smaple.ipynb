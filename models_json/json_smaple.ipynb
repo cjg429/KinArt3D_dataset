{
 "cells": [
  {
   "cell_type": "code",
   "execution_count": 1,
   "metadata": {},
   "outputs": [],
   "source": [
    "import json\n",
    "import numpy as np\n",
    "\n",
    "stl = ['snake_base.stl', 'snake_link1.stl', 'snake_link2.stl', 'snake_link3.stl', 'snake_link4.stl']\n",
    "joint = [[0.0, 0.0, 0.0], [13.76, 0.0, 2.44], [4.69, 0.0, 2.44], [-6.29, 0.0, 2.44], [-15.37, 0.0, 2.44]]\n",
    "axis = [[0.0, 0.0, 1.0], [0.0, 0.0, 1.0], [0.0, 0.0, 1.0], [0.0, 0.0, 1.0], [0.0, 0.0, 1.0]]\n",
    "axis_range = [[0.0, 0.0], [-np.pi/5.0, np.pi/5.0], [-np.pi/5.0, np.pi/5.0], [-np.pi/5.0, np.pi/5.0], [-np.pi/5.0, np.pi/5.0]]\n",
    "root_idx = [None, 0, 1, 2, 3]\n",
    "data = {'stl': stl, 'joint': joint, 'axis': axis, 'axis_range': axis_range, 'root_idx': root_idx}\n",
    "        \n",
    "with open(\"snake_info.json\", \"w\") as json_file:\n",
    "    json.dump(data, json_file)        "
   ]
  },
  {
   "cell_type": "code",
   "execution_count": 2,
   "metadata": {},
   "outputs": [
    {
     "name": "stdout",
     "output_type": "stream",
     "text": [
      "{'stl': ['snake_base.stl', 'snake_link1.stl', 'snake_link2.stl', 'snake_link3.stl', 'snake_link4.stl'], 'axis': [[0.0, 0.0, 1.0], [0.0, 0.0, 1.0], [0.0, 0.0, 1.0], [0.0, 0.0, 1.0], [0.0, 0.0, 1.0]], 'joint': [[0.0, 0.0, 0.0], [13.76, 0.0, 2.44], [4.69, 0.0, 2.44], [-6.29, 0.0, 2.44], [-15.37, 0.0, 2.44]], 'axis_range': [[0.0, 0.0], [-0.6283185307179586, 0.6283185307179586], [-0.6283185307179586, 0.6283185307179586], [-0.6283185307179586, 0.6283185307179586], [-0.6283185307179586, 0.6283185307179586]], 'root_idx': [None, 0, 1, 2, 3]}\n"
     ]
    }
   ],
   "source": [
    "with open(\"snake_info.json\", \"r\") as json_file:\n",
    "    recovery_data = json.load(json_file) \n",
    "print(recovery_data)"
   ]
  },
  {
   "cell_type": "code",
   "execution_count": 14,
   "metadata": {},
   "outputs": [],
   "source": [
    "import json\n",
    "import numpy as np\n",
    "\n",
    "stl = ['leg_base.stl', 'leg_link1.stl', 'leg_link2.stl']\n",
    "joint = [[0.0, 0.0, 0.0], [12.79, -9.60, 0.0], [-12.33, -6.12, 0.0]]\n",
    "axis = [[0.0, 0.0, 1.0], [0.0, 0.0, 1.0], [0.0, 0.0, 1.0]]\n",
    "axis_range = [[0.0, 0.0], [-np.pi/2.0, 0.0], [-np.pi/5.0, np.pi/5.0]]\n",
    "root_idx = [None, 0, 0]\n",
    "data = {'stl': stl, 'joint': joint, 'axis': axis, 'axis_range': axis_range, 'root_idx': root_idx}\n",
    "        \n",
    "with open(\"leg_info.json\", \"w\") as json_file:\n",
    "    json.dump(data, json_file)    "
   ]
  },
  {
   "cell_type": "code",
   "execution_count": 11,
   "metadata": {},
   "outputs": [],
   "source": [
    "import json\n",
    "import numpy as np\n",
    "\n",
    "stl = ['round_stick2_base.stl', 'round_stick2_handle.stl']\n",
    "joint = [[0.0, 0.0, 0.0], [8.82, 0.0, -0.1]]\n",
    "axis = [[0.0, 0.0, 1.0], [0.0, 0.0, 1.0]]\n",
    "axis_range = [[0.0, 0.0], [-np.pi/5.0, np.pi/5.0]]\n",
    "root_idx = [None, 0]\n",
    "data = {'stl': stl, 'joint': joint, 'axis': axis, 'axis_range': axis_range, 'root_idx': root_idx}\n",
    "        \n",
    "with open(\"round_stick2_info.json\", \"w\") as json_file:\n",
    "    json.dump(data, json_file)    "
   ]
  },
  {
   "cell_type": "code",
   "execution_count": 7,
   "metadata": {},
   "outputs": [],
   "source": [
    "import json\n",
    "import numpy as np\n",
    "\n",
    "stl = ['fan_base.stl', 'fan_link.stl']\n",
    "joint = [[0.0, 0.0, 0.0], [1.59, -28.50, 81.50]]\n",
    "axis = [[0.0, 0.0, 1.0], [0.0, 1.0, 0.0]]\n",
    "axis_range = [[0.0, 0.0], [-np.pi, np.pi]]\n",
    "root_idx = [None, 0]\n",
    "data = {'stl': stl, 'joint': joint, 'axis': axis, 'axis_range': axis_range, 'root_idx': root_idx}\n",
    "        \n",
    "with open(\"fan_info.json\", \"w\") as json_file:\n",
    "    json.dump(data, json_file)    "
   ]
  },
  {
   "cell_type": "code",
   "execution_count": 10,
   "metadata": {},
   "outputs": [],
   "source": [
    "import json\n",
    "import numpy as np\n",
    "\n",
    "stl = ['fan2_base.stl', 'fan2_link.stl']\n",
    "joint = [[0.0, 0.0, 0.0], [1.59, -28.50, 81.50]]\n",
    "axis = [[0.0, 0.0, 1.0], [0.0, 1.0, 0.0]]\n",
    "axis_range = [[0.0, 0.0], [-np.pi, np.pi]]\n",
    "root_idx = [None, 0]\n",
    "data = {'stl': stl, 'joint': joint, 'axis': axis, 'axis_range': axis_range, 'root_idx': root_idx}\n",
    "        \n",
    "with open(\"fan2_info.json\", \"w\") as json_file:\n",
    "    json.dump(data, json_file)    "
   ]
  },
  {
   "cell_type": "code",
   "execution_count": 9,
   "metadata": {},
   "outputs": [],
   "source": [
    "import json\n",
    "import numpy as np\n",
    "\n",
    "stl = ['propeller_base.stl', 'propeller_link2.stl']\n",
    "joint = [[0.0, 0.0, 0.0], [-9.73, -0.39, 28.57]]\n",
    "axis = [[0.0, 0.0, 1.0], [0.0, 0.0, 1.0]]\n",
    "axis_range = [[0.0, 0.0], [-np.pi, np.pi]]\n",
    "root_idx = [None, 0]\n",
    "data = {'stl': stl, 'joint': joint, 'axis': axis, 'axis_range': axis_range, 'root_idx': root_idx}\n",
    "        \n",
    "with open(\"propeller2_info.json\", \"w\") as json_file:\n",
    "    json.dump(data, json_file)    "
   ]
  },
  {
   "cell_type": "code",
   "execution_count": 12,
   "metadata": {},
   "outputs": [],
   "source": [
    "import json\n",
    "import numpy as np\n",
    "\n",
    "stl = ['fan_base.stl', 'fan_link.stl']\n",
    "joint = [[0.0, 0.0, 0.0], [-20.0, 0.0, 34.37]]\n",
    "axis = [[0.0, 0.0, 1.0], [1,0, 0.0, 0.0]]\n",
    "axis_range = [[0.0, 0.0], [-np.pi, np.pi]]\n",
    "root_idx = [None, 0]\n",
    "data = {'stl': stl, 'joint': joint, 'axis': axis, 'axis_range': axis_range, 'root_idx': root_idx}\n",
    "        \n",
    "with open(\"fan3_info.json\", \"w\") as json_file:\n",
    "    json.dump(data, json_file)    "
   ]
  },
  {
   "cell_type": "code",
   "execution_count": 16,
   "metadata": {},
   "outputs": [],
   "source": [
    " "
   ]
  },
  {
   "cell_type": "code",
   "execution_count": 18,
   "metadata": {},
   "outputs": [],
   "source": [
    " "
   ]
  },
  {
   "cell_type": "code",
   "execution_count": 3,
   "metadata": {},
   "outputs": [],
   "source": [
    "import json\n",
    "import numpy as np\n",
    "\n",
    "stl = ['pencil_stand_base.stl', 'pencil_stand_link.stl']\n",
    "joint = [[0.0, 0.0, 0.0], [0.0, 0.0, 2.3]]\n",
    "axis = [[0.0, 0.0, 1.0], [0.0, -1.0, 0.0]]\n",
    "axis_range = [[0.0, 0.0], [0.0, 7.0]]\n",
    "root_idx = [None, 0]\n",
    "data = {'stl': stl, 'joint': joint, 'axis': axis, 'axis_range': axis_range, 'root_idx': root_idx}\n",
    "        \n",
    "with open(\"pencil_stand_info.json\", \"w\") as json_file:\n",
    "    json.dump(data, json_file) "
   ]
  },
  {
   "cell_type": "code",
   "execution_count": 6,
   "metadata": {},
   "outputs": [],
   "source": [
    "import json\n",
    "import numpy as np\n",
    "\n",
    "stl = ['link0.stl', 'link1.stl', 'link2.stl']\n",
    "joint = [[0.0, 0.0, 0.0], [0.0, 8.47, 14.02], [0.0, 0.29, 25.39]]\n",
    "axis = [[0.0, 0.0, 1.0], [1.0, 0.0, 0.0], [1.0, 0.0, 0.0]]\n",
    "axis_range = [[0.0, 0.0], [-np.pi/3.0, np.pi/3.0], [-np.pi/2.0, 0.0]]\n",
    "root_idx = [None, 0, 1]\n",
    "data = {'stl': stl, 'joint': joint, 'axis': axis, 'axis_range': axis_range, 'root_idx': root_idx}\n",
    "        \n",
    "with open(\"lamp0_info.json\", \"w\") as json_file:\n",
    "    json.dump(data, json_file) "
   ]
  },
  {
   "cell_type": "code",
   "execution_count": 5,
   "metadata": {},
   "outputs": [],
   "source": [
    "import json\n",
    "import numpy as np\n",
    "\n",
    "stl = ['link0.stl', 'link1.stl', 'link2.stl']\n",
    "joint = [[0.0, 0.0, 0.0], [1.0, 13.48, 32.23], [1.0, -5.45, 54.23]]\n",
    "axis = [[0.0, 0.0, 1.0], [1.0, 0.0, 0.0], [1.0, 0.0, 0.0]]\n",
    "axis_range = [[0.0, 0.0], [-3.0*np.pi/4.0, np.pi/4.0], [-3.0*np.pi/4.0, np.pi/4.0]]\n",
    "root_idx = [None, 0, 1]\n",
    "data = {'stl': stl, 'joint': joint, 'axis': axis, 'axis_range': axis_range, 'root_idx': root_idx}\n",
    "        \n",
    "with open(\"lamp1_info.json\", \"w\") as json_file:\n",
    "    json.dump(data, json_file) "
   ]
  },
  {
   "cell_type": "code",
   "execution_count": 3,
   "metadata": {},
   "outputs": [],
   "source": [
    "import json\n",
    "import numpy as np\n",
    "\n",
    "stl = ['link0.stl', 'link1.stl', 'link2.stl']\n",
    "joint = [[0.0, 0.0, 0.0], [-14.29, -0.14, 13.57], [-6.29, -0.36, 37.57]]\n",
    "axis = [[0.0, 0.0, 1.0], [0.0, 1.0, 0.0], [0.0, 1.0, 0.0]]\n",
    "axis_range = [[0.0, 0.0], [-np.pi/8.0, np.pi/8.0], [-np.pi/8.0, np.pi/8.0]]\n",
    "root_idx = [None, 0, 1]\n",
    "data = {'stl': stl, 'joint': joint, 'axis': axis, 'axis_range': axis_range, 'root_idx': root_idx}\n",
    "        \n",
    "with open(\"lamp2_info.json\", \"w\") as json_file:\n",
    "    json.dump(data, json_file) "
   ]
  },
  {
   "cell_type": "code",
   "execution_count": 6,
   "metadata": {},
   "outputs": [],
   "source": [
    "import json\n",
    "import numpy as np\n",
    "\n",
    "stl = ['link0.stl', 'link1.stl']\n",
    "joint = [[0.0, 0.0, 0.0], [7.5, -1.5, 114.5]]\n",
    "axis = [[0.0, 0.0, 1.0], [0.0, 1.0, 0.0]]\n",
    "axis_range = [[0.0, 0.0], [-np.pi/2.0, np.pi/8.0]]\n",
    "root_idx = [None, 0]\n",
    "data = {'stl': stl, 'joint': joint, 'axis': axis, 'axis_range': axis_range, 'root_idx': root_idx}\n",
    "        \n",
    "with open(\"lamp3_info.json\", \"w\") as json_file:\n",
    "    json.dump(data, json_file) "
   ]
  },
  {
   "cell_type": "code",
   "execution_count": 7,
   "metadata": {},
   "outputs": [],
   "source": [
    "import json\n",
    "import numpy as np\n",
    "\n",
    "stl = ['link0.stl', 'link1.stl']\n",
    "joint = [[0.0, 0.0, 0.0], [0.0, 17.5, 72.0]]\n",
    "axis = [[0.0, 0.0, 1.0], [1.0, 0.0, 0.0]]\n",
    "axis_range = [[0.0, 0.0], [-np.pi/3.0, 0.0]]\n",
    "root_idx = [None, 0]\n",
    "data = {'stl': stl, 'joint': joint, 'axis': axis, 'axis_range': axis_range, 'root_idx': root_idx}\n",
    "        \n",
    "with open(\"lamp4_info.json\", \"w\") as json_file:\n",
    "    json.dump(data, json_file) "
   ]
  },
  {
   "cell_type": "code",
   "execution_count": null,
   "metadata": {},
   "outputs": [],
   "source": []
  },
  {
   "cell_type": "code",
   "execution_count": 4,
   "metadata": {},
   "outputs": [],
   "source": [
    "import json\n",
    "import numpy as np\n",
    "\n",
    "stl = ['link0.stl', 'link1.stl', 'link2.stl']\n",
    "joint = [[0.0, 0.0, 0.0], [-21.5, -1.5, 31.0], [-8.45, -1.5, 73.48]]\n",
    "axis = [[0.0, 0.0, 1.0], [0.0, 1.0, 0.0], [0.0, 1.0, 0.0]]\n",
    "axis_range = [[0.0, 0.0], [-2.0*np.pi/3.0, np.pi/3.0], [-2.0*np.pi/3.0, np.pi/6.0]]\n",
    "root_idx = [None, 0, 1]\n",
    "data = {'stl': stl, 'joint': joint, 'axis': axis, 'axis_range': axis_range, 'root_idx': root_idx}\n",
    "        \n",
    "with open(\"lamp5_info.json\", \"w\") as json_file:\n",
    "    json.dump(data, json_file) "
   ]
  },
  {
   "cell_type": "code",
   "execution_count": 11,
   "metadata": {},
   "outputs": [
    {
     "name": "stdout",
     "output_type": "stream",
     "text": [
      "[ 0.80921422 -0.14885211  0.56834443] [-0.63343552  0.04778767  0.77231844]\n"
     ]
    }
   ],
   "source": [
    "axis1 = np.array([26.91, 0.94, 23.90]) - np.array([0.0, 5.89, 5.0])\n",
    "axis2 = np.array([1.46, 2.86, 54.93]) - np.array([26.91, 0.94, 23.90])\n",
    "axis1 = axis1 / np.linalg.norm(axis1)\n",
    "axis2 = axis2 / np.linalg.norm(axis2)\n",
    "print(axis1, axis2)"
   ]
  },
  {
   "cell_type": "code",
   "execution_count": 12,
   "metadata": {},
   "outputs": [],
   "source": [
    "import json\n",
    "import numpy as np\n",
    "\n",
    "stl = ['link0.stl', 'link1.stl', 'link2.stl']\n",
    "joint = [[0.0, 0.0, 0.0], [26.91, 0.94, 23.90], [1.46, 2.86, 54.93]]\n",
    "axis = [[0.0, 0.0, 1.0], [0.80921422, -0.14885211, 0.56834443], [-0.63343552, 0.04778767, 0.77231844]]\n",
    "axis_range = [[0.0, 0.0], [-np.pi/4.0, np.pi/4.0], [-np.pi/4.0, np.pi/4.0]]\n",
    "root_idx = [None, 0, 1]\n",
    "data = {'stl': stl, 'joint': joint, 'axis': axis, 'axis_range': axis_range, 'root_idx': root_idx}\n",
    "        \n",
    "with open(\"lamp6_info.json\", \"w\") as json_file:\n",
    "    json.dump(data, json_file) "
   ]
  },
  {
   "cell_type": "code",
   "execution_count": 13,
   "metadata": {},
   "outputs": [],
   "source": [
    "import json\n",
    "import numpy as np\n",
    "\n",
    "stl = ['link0.stl', 'link1.stl']\n",
    "joint = [[0.0, 0.0, 0.0], [0.5, -22.26, 91.0]]\n",
    "axis = [[0.0, 0.0, 1.0], [1.0, 0.0, 0.0]]\n",
    "axis_range = [[0.0, 0.0], [-np.pi/2.0, np.pi/8.0]]\n",
    "root_idx = [None, 0]\n",
    "data = {'stl': stl, 'joint': joint, 'axis': axis, 'axis_range': axis_range, 'root_idx': root_idx}\n",
    "        \n",
    "with open(\"lamp7_info.json\", \"w\") as json_file:\n",
    "    json.dump(data, json_file) "
   ]
  },
  {
   "cell_type": "code",
   "execution_count": 17,
   "metadata": {},
   "outputs": [],
   "source": [
    "import json\n",
    "import numpy as np\n",
    "\n",
    "stl = ['link0.stl', 'link1.stl']\n",
    "joint = [[0.0, 0.0, 0.0], [15.0, 4.5, 63.5]]\n",
    "axis = [[0.0, 0.0, 1.0], [0.0, 0.0, 1.0]]\n",
    "axis_range = [[0.0, 0.0], [-np.pi, np.pi]]\n",
    "root_idx = [None, 0]\n",
    "data = {'stl': stl, 'joint': joint, 'axis': axis, 'axis_range': axis_range, 'root_idx': root_idx}\n",
    "        \n",
    "with open(\"lamp8_info.json\", \"w\") as json_file:\n",
    "    json.dump(data, json_file) "
   ]
  },
  {
   "cell_type": "code",
   "execution_count": 10,
   "metadata": {},
   "outputs": [],
   "source": [
    "import json\n",
    "import numpy as np\n",
    "\n",
    "stl = ['link0.stl', 'link1.stl']\n",
    "joint = [[0.0, 0.0, 0.0], [0.0, 15.0, 62.11]]\n",
    "axis = [[0.0, 0.0, 1.0], [1.0, 0.0, 0.0]]\n",
    "axis_range = [[0.0, 0.0], [-np.pi/3.0, np.pi/3.0]]\n",
    "root_idx = [None, 0]\n",
    "data = {'stl': stl, 'joint': joint, 'axis': axis, 'axis_range': axis_range, 'root_idx': root_idx}\n",
    "        \n",
    "with open(\"lamp9_info.json\", \"w\") as json_file:\n",
    "    json.dump(data, json_file) "
   ]
  },
  {
   "cell_type": "code",
   "execution_count": 23,
   "metadata": {},
   "outputs": [],
   "source": [
    "import json\n",
    "import numpy as np\n",
    "\n",
    "stl = ['link0.stl', 'link1.stl', 'link2.stl', 'link3.stl']\n",
    "joint = [[0.0, 0.0, 0.0], [-0.4, 2.87, 3.75], [-0.35, 21.89, 36.62], [-0.3, 2.67, 72.26]]\n",
    "axis = [[0.0, 0.0, 1.0], [1.0, 0.0, 0.0], [1.0, 0.0, 0.0], [1.0, 0.0, 0.0]]\n",
    "axis_range = [[0.0, 0.0], [0.0, np.pi/4.0], [-np.pi/6.0, np.pi/6.0], [-np.pi/6.0, np.pi/6.0]]\n",
    "root_idx = [None, 0, 1, 2]\n",
    "data = {'stl': stl, 'joint': joint, 'axis': axis, 'axis_range': axis_range, 'root_idx': root_idx}\n",
    "        \n",
    "with open(\"lamp10_info.json\", \"w\") as json_file:\n",
    "    json.dump(data, json_file) "
   ]
  },
  {
   "cell_type": "code",
   "execution_count": 11,
   "metadata": {},
   "outputs": [],
   "source": [
    "import json\n",
    "import numpy as np\n",
    "\n",
    "stl = ['link0.stl', 'link1.stl']\n",
    "joint = [[0.0, 0.0, 0.0], [-0.5, 12.0, 60.5]]\n",
    "axis = [[0.0, 0.0, 1.0], [1.0, 0.0, 0.0]]\n",
    "axis_range = [[0.0, 0.0], [-np.pi/2.0, np.pi/6.0]]\n",
    "root_idx = [None, 0]\n",
    "data = {'stl': stl, 'joint': joint, 'axis': axis, 'axis_range': axis_range, 'root_idx': root_idx}\n",
    "        \n",
    "with open(\"lamp11_info.json\", \"w\") as json_file:\n",
    "    json.dump(data, json_file)"
   ]
  },
  {
   "cell_type": "code",
   "execution_count": 26,
   "metadata": {},
   "outputs": [],
   "source": [
    "import json\n",
    "import numpy as np\n",
    "\n",
    "stl = ['link0.stl', 'link1.stl']\n",
    "joint = [[0.0, 0.0, 0.0], [30.0, -6.0, 71.0]]\n",
    "axis = [[0.0, 0.0, 1.0], [0.0, 1.0, 0.0]]\n",
    "axis_range = [[0.0, 0.0], [-np.pi/6.0, np.pi/6.0]]\n",
    "root_idx = [None, 0]\n",
    "data = {'stl': stl, 'joint': joint, 'axis': axis, 'axis_range': axis_range, 'root_idx': root_idx}\n",
    "        \n",
    "with open(\"lamp12_info.json\", \"w\") as json_file:\n",
    "    json.dump(data, json_file)"
   ]
  },
  {
   "cell_type": "code",
   "execution_count": 2,
   "metadata": {},
   "outputs": [],
   "source": [
    "import json\n",
    "import numpy as np\n",
    "\n",
    "stl = ['link0.stl', 'link1.stl', 'link2.stl']\n",
    "joint = [[0.0, 0.0, 0.0], [-0.45, -12.5, 17.5], [-15.45, -13.0, 44.5]]\n",
    "axis = [[0.0, 0.0, 1.0], [0.0, 1.0, 0.0], [0.0, 1.0, 0.0]]\n",
    "axis_range = [[0.0, 0.0], [0.0, 0.0], [-np.pi, np.pi]]\n",
    "root_idx = [None, 0, 1]\n",
    "data = {'stl': stl, 'joint': joint, 'axis': axis, 'axis_range': axis_range, 'root_idx': root_idx}\n",
    "        \n",
    "with open(\"lamp13_info.json\", \"w\") as json_file:\n",
    "    json.dump(data, json_file) "
   ]
  },
  {
   "cell_type": "code",
   "execution_count": 7,
   "metadata": {},
   "outputs": [],
   "source": [
    "import json\n",
    "import numpy as np\n",
    "\n",
    "stl = ['link0.stl', 'link1.stl', 'link2.stl']\n",
    "joint = [[0.0, 0.0, 0.0], [0.0, 6.0, 10.0], [0.0, 16.5, 31.5]]\n",
    "axis = [[0.0, 0.0, 1.0], [1.0, 0.0, 0.0], [1.0, 0.0, 0.0]]\n",
    "axis_range = [[0.0, 0.0], [-np.pi/3.0, np.pi/3.0], [-np.pi/3.0, np.pi/3.0]]\n",
    "root_idx = [None, 0, 1]\n",
    "data = {'stl': stl, 'joint': joint, 'axis': axis, 'axis_range': axis_range, 'root_idx': root_idx}\n",
    "        \n",
    "with open(\"lamp14_info.json\", \"w\") as json_file:\n",
    "    json.dump(data, json_file) "
   ]
  },
  {
   "cell_type": "code",
   "execution_count": 30,
   "metadata": {},
   "outputs": [],
   "source": [
    "import json\n",
    "import numpy as np\n",
    "\n",
    "stl = ['link0.stl', 'link1.stl', 'link2.stl']\n",
    "joint = [[0.0, 0.0, 0.0], [0.11, 8.27, 7.16], [0.0, 8.34, 38.0]]\n",
    "axis = [[0.0, 0.0, 1.0], [0.0, 0.0, 1.0], [1.0, 0.0, 0.0]]\n",
    "axis_range = [[0.0, 0.0], [-np.pi, np.pi], [-np.pi/6.0, np.pi/6.0]]\n",
    "root_idx = [None, 0, 1]\n",
    "data = {'stl': stl, 'joint': joint, 'axis': axis, 'axis_range': axis_range, 'root_idx': root_idx}\n",
    "        \n",
    "with open(\"lamp15_info.json\", \"w\") as json_file:\n",
    "    json.dump(data, json_file) "
   ]
  },
  {
   "cell_type": "code",
   "execution_count": 8,
   "metadata": {},
   "outputs": [],
   "source": [
    "import json\n",
    "import numpy as np\n",
    "\n",
    "stl = ['link0.stl', 'link1.stl']\n",
    "joint = [[0.0, 0.0, 0.0], [0.0, 8.34, 38.0]]\n",
    "axis = [[0.0, 0.0, 1.0], [1.0, 0.0, 0.0]]\n",
    "axis_range = [[0.0, 0.0], [-np.pi/2.0, np.pi/2.0]]\n",
    "root_idx = [None, 0]\n",
    "data = {'stl': stl, 'joint': joint, 'axis': axis, 'axis_range': axis_range, 'root_idx': root_idx}\n",
    "        \n",
    "with open(\"lamp15_info.json\", \"w\") as json_file:\n",
    "    json.dump(data, json_file) "
   ]
  },
  {
   "cell_type": "code",
   "execution_count": 2,
   "metadata": {},
   "outputs": [],
   "source": [
    "import json\n",
    "import numpy as np\n",
    "\n",
    "stl = ['link0.stl', 'link1.stl', 'link2.stl']\n",
    "joint = [[0.0, 0.0, 0.0], [-29.04, -0.16, 5.58], [-17.81, -0.16, 30.11]]\n",
    "axis = [[0.0, 0.0, 1.0], [0.0, 1.0, 0.0], [0.0, 1.0, 0.0]]\n",
    "axis_range = [[0.0, 0.0], [-np.pi/3.0, np.pi/3.0], [-2.0*np.pi/3.0, np.pi/3.0]]\n",
    "root_idx = [None, 0, 1]\n",
    "data = {'stl': stl, 'joint': joint, 'axis': axis, 'axis_range': axis_range, 'root_idx': root_idx}\n",
    "        \n",
    "with open(\"lamp16_info.json\", \"w\") as json_file:\n",
    "    json.dump(data, json_file) "
   ]
  },
  {
   "cell_type": "code",
   "execution_count": 33,
   "metadata": {},
   "outputs": [],
   "source": [
    "import json\n",
    "import numpy as np\n",
    "\n",
    "stl = ['link0.stl', 'link1.stl', 'link2.stl']\n",
    "joint = [[0.0, 0.0, 0.0], [27.5, 27.64, 54.0], [-20.2, 26.39, 54.23]]\n",
    "axis = [[0.0, 0.0, 1.0], [0.0, 0.0, 1.0], [0.0, 0.0, 1.0]]\n",
    "axis_range = [[0.0, 0.0], [-np.pi, np.pi], [0.0, np.pi]]\n",
    "root_idx = [None, 0, 1]\n",
    "data = {'stl': stl, 'joint': joint, 'axis': axis, 'axis_range': axis_range, 'root_idx': root_idx}\n",
    "        \n",
    "with open(\"lamp17_info.json\", \"w\") as json_file:\n",
    "    json.dump(data, json_file) "
   ]
  },
  {
   "cell_type": "code",
   "execution_count": 9,
   "metadata": {},
   "outputs": [],
   "source": [
    "import json\n",
    "import numpy as np\n",
    "\n",
    "stl = ['link0.stl', 'link1.stl']\n",
    "joint = [[0.0, 0.0, 0.0], [-20.2, 26.39, 54.23]]\n",
    "axis = [[0.0, 0.0, 1.0], [0.0, 0.0, 1.0]]\n",
    "axis_range = [[0.0, 0.0], [-np.pi, 0.0]]\n",
    "root_idx = [None, 0]\n",
    "data = {'stl': stl, 'joint': joint, 'axis': axis, 'axis_range': axis_range, 'root_idx': root_idx}\n",
    "        \n",
    "with open(\"lamp17_info.json\", \"w\") as json_file:\n",
    "    json.dump(data, json_file) "
   ]
  },
  {
   "cell_type": "code",
   "execution_count": 34,
   "metadata": {},
   "outputs": [],
   "source": [
    "import json\n",
    "import numpy as np\n",
    "\n",
    "stl = ['link0.stl', 'link1.stl', 'link2.stl']\n",
    "joint = [[0.0, 0.0, 0.0], [-3.66, 0.0, 32.89], [-3.66, 0.0, 32.89]]\n",
    "axis = [[0.0, 0.0, 1.0], [0.0, 0.0, 1.0], [0.0, 0.0, 1.0]]\n",
    "axis_range = [[0.0, 0.0], [-np.pi/4.0, np.pi/4.0], [0.0, np.pi]]\n",
    "root_idx = [None, 0, 0]\n",
    "data = {'stl': stl, 'joint': joint, 'axis': axis, 'axis_range': axis_range, 'root_idx': root_idx}\n",
    "        \n",
    "with open(\"hinge0_info.json\", \"w\") as json_file:\n",
    "    json.dump(data, json_file) "
   ]
  },
  {
   "cell_type": "code",
   "execution_count": 35,
   "metadata": {},
   "outputs": [],
   "source": [
    "import json\n",
    "import numpy as np\n",
    "\n",
    "stl = ['link0.stl', 'link1.stl']\n",
    "joint = [[0.0, 0.0, 0.0], [0.0, 0.0, 10.0]]\n",
    "axis = [[0.0, 0.0, 1.0], [1.0, 0.0, 0.0]]\n",
    "axis_range = [[0.0, 0.0], [-np.pi/2.2, np.pi/2.2]]\n",
    "root_idx = [None, 0]\n",
    "data = {'stl': stl, 'joint': joint, 'axis': axis, 'axis_range': axis_range, 'root_idx': root_idx}\n",
    "        \n",
    "with open(\"hinge1_info.json\", \"w\") as json_file:\n",
    "    json.dump(data, json_file)"
   ]
  },
  {
   "cell_type": "code",
   "execution_count": 36,
   "metadata": {},
   "outputs": [],
   "source": [
    "import json\n",
    "import numpy as np\n",
    "\n",
    "stl = ['link0.stl', 'link1.stl', 'link2.stl']\n",
    "joint = [[0.0, 0.0, 0.0], [6.59, 0.2, 4.91], [-6.23, 0.2, 4.91]]\n",
    "axis = [[0.0, 0.0, 1.0], [0.0, 1.0, 0.0], [0.0, 1.0, 0.0]]\n",
    "axis_range = [[0.0, 0.0], [-np.pi/2.0, np.pi/2.0], [-np.pi/2.0, np.pi/2.0]]\n",
    "root_idx = [None, 0, 0]\n",
    "data = {'stl': stl, 'joint': joint, 'axis': axis, 'axis_range': axis_range, 'root_idx': root_idx}\n",
    "        \n",
    "with open(\"hinge2_info.json\", \"w\") as json_file:\n",
    "    json.dump(data, json_file)"
   ]
  },
  {
   "cell_type": "code",
   "execution_count": 37,
   "metadata": {},
   "outputs": [],
   "source": [
    "import json\n",
    "import numpy as np\n",
    "\n",
    "stl = ['link0.stl', 'link1.stl']\n",
    "joint = [[0.0, 0.0, 0.0], [-11.5, -0.5, 35.5]]\n",
    "axis = [[0.0, 0.0, 1.0], [0.0, 0.0, 1.0]]\n",
    "axis_range = [[0.0, 0.0], [-np.pi/2.0, np.pi/2.0]]\n",
    "root_idx = [None, 0]\n",
    "data = {'stl': stl, 'joint': joint, 'axis': axis, 'axis_range': axis_range, 'root_idx': root_idx}\n",
    "        \n",
    "with open(\"hinge3_info.json\", \"w\") as json_file:\n",
    "    json.dump(data, json_file)"
   ]
  },
  {
   "cell_type": "code",
   "execution_count": 39,
   "metadata": {},
   "outputs": [],
   "source": [
    "import json\n",
    "import numpy as np\n",
    "\n",
    "stl = ['link0.stl', 'link1.stl']\n",
    "joint = [[0.0, 0.0, 0.0], [0.0, 0.0, 8.0]]\n",
    "axis = [[0.0, 0.0, 1.0], [0.0, 1.0, 0.0]]\n",
    "axis_range = [[0.0, 0.0], [-np.pi/2.0, np.pi/2.0]]\n",
    "root_idx = [None, 0]\n",
    "data = {'stl': stl, 'joint': joint, 'axis': axis, 'axis_range': axis_range, 'root_idx': root_idx}\n",
    "        \n",
    "with open(\"hinge4_info.json\", \"w\") as json_file:\n",
    "    json.dump(data, json_file)"
   ]
  },
  {
   "cell_type": "code",
   "execution_count": 40,
   "metadata": {},
   "outputs": [],
   "source": [
    "import json\n",
    "import numpy as np\n",
    "\n",
    "stl = ['link0.stl', 'link1.stl']\n",
    "joint = [[0.0, 0.0, 0.0], [-4.52, 0.0, 24.5]]\n",
    "axis = [[0.0, 0.0, 1.0], [0.0, 0.0, 1.0]]\n",
    "axis_range = [[0.0, 0.0], [-np.pi/2.0, 0.0]]\n",
    "root_idx = [None, 0]\n",
    "data = {'stl': stl, 'joint': joint, 'axis': axis, 'axis_range': axis_range, 'root_idx': root_idx}\n",
    "        \n",
    "with open(\"hinge5_info.json\", \"w\") as json_file:\n",
    "    json.dump(data, json_file)"
   ]
  },
  {
   "cell_type": "code",
   "execution_count": 1,
   "metadata": {},
   "outputs": [],
   "source": [
    "import json\n",
    "import numpy as np\n",
    "\n",
    "stl = ['link0.stl', 'link1.stl']\n",
    "joint = [[0.0, 0.0, 0.0], [0.0, 10.05, 10.0]]\n",
    "axis = [[0.0, 0.0, 1.0], [1.0, 0.0, 0.0]]\n",
    "axis_range = [[0.0, 0.0], [-0.75*np.pi, 0.75*np.pi]]\n",
    "root_idx = [None, 0]\n",
    "data = {'stl': stl, 'joint': joint, 'axis': axis, 'axis_range': axis_range, 'root_idx': root_idx}\n",
    "        \n",
    "with open(\"hinge6_info.json\", \"w\") as json_file:\n",
    "    json.dump(data, json_file)"
   ]
  },
  {
   "cell_type": "code",
   "execution_count": 47,
   "metadata": {},
   "outputs": [],
   "source": [
    "import json\n",
    "import numpy as np\n",
    "\n",
    "stl = ['link0.stl', 'link1.stl']\n",
    "joint = [[0.0, 0.0, 0.0], [-1.94, 0.0, 4.87]]\n",
    "axis = [[0.0, 0.0, 1.0], [0.0, 1.0, 0.0]]\n",
    "axis_range = [[0.0, 0.0], [-np.pi/4.0, np.pi/4.0]]\n",
    "root_idx = [None, 0]\n",
    "data = {'stl': stl, 'joint': joint, 'axis': axis, 'axis_range': axis_range, 'root_idx': root_idx}\n",
    "        \n",
    "with open(\"hinge7_info.json\", \"w\") as json_file:\n",
    "    json.dump(data, json_file)"
   ]
  },
  {
   "cell_type": "code",
   "execution_count": 51,
   "metadata": {},
   "outputs": [],
   "source": [
    "import json\n",
    "import numpy as np\n",
    "\n",
    "stl = ['link0.stl', 'link1.stl']\n",
    "joint = [[0.0, 0.0, 0.0], [0.0, -0.59, 1.98]]\n",
    "axis = [[0.0, 0.0, 1.0], [1.0, 0.0, 0.0]]\n",
    "axis_range = [[0.0, 0.0], [-0.75*np.pi, 0.75*np.pi]]\n",
    "root_idx = [None, 0]\n",
    "data = {'stl': stl, 'joint': joint, 'axis': axis, 'axis_range': axis_range, 'root_idx': root_idx}\n",
    "        \n",
    "with open(\"hinge8_info.json\", \"w\") as json_file:\n",
    "    json.dump(data, json_file)"
   ]
  },
  {
   "cell_type": "code",
   "execution_count": 53,
   "metadata": {},
   "outputs": [],
   "source": [
    "import json\n",
    "import numpy as np\n",
    "\n",
    "stl = ['link0.stl', 'link1.stl']\n",
    "joint = [[0.0, 0.0, 0.0], [13.51, 25.5, 20.0]]\n",
    "axis = [[0.0, 0.0, 1.0], [0.0, 0.0, 1.0]]\n",
    "axis_range = [[0.0, 0.0], [-0.25*np.pi, 1.25*np.pi]]\n",
    "root_idx = [None, 0]\n",
    "data = {'stl': stl, 'joint': joint, 'axis': axis, 'axis_range': axis_range, 'root_idx': root_idx}\n",
    "        \n",
    "with open(\"hinge9_info.json\", \"w\") as json_file:\n",
    "    json.dump(data, json_file)"
   ]
  },
  {
   "cell_type": "code",
   "execution_count": 54,
   "metadata": {},
   "outputs": [],
   "source": [
    "import json\n",
    "import numpy as np\n",
    "\n",
    "stl = ['link0.stl', 'link1.stl', 'link2.stl']\n",
    "joint = [[0.0, 0.0, 0.0], [0.0, 0.0, 8.0],  [0.0, 0.0, 8.0]]\n",
    "axis = [[0.0, 0.0, 1.0], [0.0, 0.0, 1.0], [0.0, 0.0, 1.0]]\n",
    "axis_range = [[0.0, 0.0], [-np.pi/4.0, np.pi/4.0], [-np.pi/4.0, np.pi/4.0]]\n",
    "root_idx = [None, 0, 0]\n",
    "data = {'stl': stl, 'joint': joint, 'axis': axis, 'axis_range': axis_range, 'root_idx': root_idx}\n",
    "        \n",
    "with open(\"hinge10_info.json\", \"w\") as json_file:\n",
    "    json.dump(data, json_file) "
   ]
  },
  {
   "cell_type": "code",
   "execution_count": 55,
   "metadata": {},
   "outputs": [],
   "source": [
    "import json\n",
    "import numpy as np\n",
    "\n",
    "stl = ['link0.stl', 'link1.stl', 'link2.stl']\n",
    "joint = [[0.0, 0.0, 0.0], [-5.5, 5.5, 4.5], [-5.5, 5.5, 4.5]]\n",
    "axis = [[0.0, 0.0, 1.0], [0.0, 0.0, 1.0], [0.0, 0.0, 1.0]]\n",
    "axis_range = [[0.0, 0.0], [0, np.pi/4.0], [-np.pi/4.0, 0]]\n",
    "root_idx = [None, 0, 0]\n",
    "data = {'stl': stl, 'joint': joint, 'axis': axis, 'axis_range': axis_range, 'root_idx': root_idx}\n",
    "        \n",
    "with open(\"hinge11_info.json\", \"w\") as json_file:\n",
    "    json.dump(data, json_file) "
   ]
  },
  {
   "cell_type": "code",
   "execution_count": 57,
   "metadata": {},
   "outputs": [],
   "source": [
    "import json\n",
    "import numpy as np\n",
    "\n",
    "stl = ['link0.stl', 'link1.stl']\n",
    "joint = [[0.0, 0.0, 0.0], [1.75, -0.2, 13.0]]\n",
    "axis = [[0.0, 0.0, 1.0], [0.0, 0.0, 1.0]]\n",
    "axis_range = [[0.0, 0.0], [-np.pi/2.0, np.pi/2.0]]\n",
    "root_idx = [None, 0]\n",
    "data = {'stl': stl, 'joint': joint, 'axis': axis, 'axis_range': axis_range, 'root_idx': root_idx}\n",
    "        \n",
    "with open(\"hinge12_info.json\", \"w\") as json_file:\n",
    "    json.dump(data, json_file)"
   ]
  },
  {
   "cell_type": "code",
   "execution_count": 58,
   "metadata": {},
   "outputs": [],
   "source": [
    "import json\n",
    "import numpy as np\n",
    "\n",
    "stl = ['link0.stl', 'link1.stl', 'link2.stl']\n",
    "joint = [[0.0, 0.0, 0.0], [0.13, 0.84, 5.25], [0.13, 0.84, 5.25]]\n",
    "axis = [[0.0, 0.0, 1.0], [0.0, 1.0, 0.0], [0.0, 1.0, 0.0]]\n",
    "axis_range = [[0.0, 0.0], [-np.pi, np.pi], [-np.pi/2.0, np.pi/2.0]]\n",
    "root_idx = [None, 0, 0]\n",
    "data = {'stl': stl, 'joint': joint, 'axis': axis, 'axis_range': axis_range, 'root_idx': root_idx}\n",
    "        \n",
    "with open(\"hinge13_info.json\", \"w\") as json_file:\n",
    "    json.dump(data, json_file)"
   ]
  },
  {
   "cell_type": "code",
   "execution_count": 59,
   "metadata": {},
   "outputs": [],
   "source": [
    "import json\n",
    "import numpy as np\n",
    "\n",
    "stl = ['link0.stl', 'link1.stl']\n",
    "joint = [[0.0, 0.0, 0.0], [0, 0, 22.5]]\n",
    "axis = [[0.0, 0.0, 1.0], [0.0, 0.0, 1.0]]\n",
    "axis_range = [[0.0, 0.0], [-np.pi/4.0, np.pi/4.0]]\n",
    "root_idx = [None, 0]\n",
    "data = {'stl': stl, 'joint': joint, 'axis': axis, 'axis_range': axis_range, 'root_idx': root_idx}\n",
    "        \n",
    "with open(\"hinge14_info.json\", \"w\") as json_file:\n",
    "    json.dump(data, json_file)"
   ]
  },
  {
   "cell_type": "code",
   "execution_count": 60,
   "metadata": {},
   "outputs": [],
   "source": [
    "import json\n",
    "import numpy as np\n",
    "\n",
    "stl = ['link0.stl', 'link1.stl']\n",
    "joint = [[0.0, 0.0, 0.0], [0.0, -15.57, 15.70]]\n",
    "axis = [[0.0, 0.0, 1.0], [1.0, 0.0, 0.0]]\n",
    "axis_range = [[0.0, 0.0], [0.0, np.pi]]\n",
    "root_idx = [None, 0]\n",
    "data = {'stl': stl, 'joint': joint, 'axis': axis, 'axis_range': axis_range, 'root_idx': root_idx}\n",
    "        \n",
    "with open(\"hinge15_info.json\", \"w\") as json_file:\n",
    "    json.dump(data, json_file)"
   ]
  },
  {
   "cell_type": "code",
   "execution_count": 61,
   "metadata": {},
   "outputs": [],
   "source": [
    "import json\n",
    "import numpy as np\n",
    "\n",
    "stl = ['link0.stl', 'link1.stl']\n",
    "joint = [[0.0, 0.0, 0.0], [-2.68, 2.4, 16.6]]\n",
    "axis = [[0.0, 0.0, 1.0], [0.0, 0.0, 1.0]]\n",
    "axis_range = [[0.0, 0.0], [-np.pi/4.0, np.pi/4.0]]\n",
    "root_idx = [None, 0]\n",
    "data = {'stl': stl, 'joint': joint, 'axis': axis, 'axis_range': axis_range, 'root_idx': root_idx}\n",
    "        \n",
    "with open(\"hinge16_info.json\", \"w\") as json_file:\n",
    "    json.dump(data, json_file)"
   ]
  },
  {
   "cell_type": "code",
   "execution_count": 62,
   "metadata": {},
   "outputs": [],
   "source": [
    "import json\n",
    "import numpy as np\n",
    "\n",
    "stl = ['link0.stl', 'link1.stl']\n",
    "joint = [[0.0, 0.0, 0.0], [1.5, 0.0, 5.8]]\n",
    "axis = [[0.0, 0.0, 1.0], [0.0, 1.0, 0.0]]\n",
    "axis_range = [[0.0, 0.0], [-np.pi/2.0, np.pi/2.0]]\n",
    "root_idx = [None, 0]\n",
    "data = {'stl': stl, 'joint': joint, 'axis': axis, 'axis_range': axis_range, 'root_idx': root_idx}\n",
    "        \n",
    "with open(\"hinge17_info.json\", \"w\") as json_file:\n",
    "    json.dump(data, json_file)"
   ]
  },
  {
   "cell_type": "code",
   "execution_count": 64,
   "metadata": {},
   "outputs": [],
   "source": [
    "import json\n",
    "import numpy as np\n",
    "\n",
    "stl = ['link0.stl', 'link1.stl', 'link2.stl']\n",
    "joint = [[0.0, 0.0, 0.0], [-0.3, 0.0, 17.0], [-0.3, 0.0, 17.0]]\n",
    "axis = [[0.0, 0.0, 1.0], [0.0, 0.0, 1.0], [0.0, 0.0, 1.0]]\n",
    "axis_range = [[0.0, 0.0], [-np.pi/2.0, np.pi/2.0], [-np.pi/2.0, np.pi/2.0]]\n",
    "root_idx = [None, 0, 0]\n",
    "data = {'stl': stl, 'joint': joint, 'axis': axis, 'axis_range': axis_range, 'root_idx': root_idx}\n",
    "        \n",
    "with open(\"hinge18_info.json\", \"w\") as json_file:\n",
    "    json.dump(data, json_file) "
   ]
  },
  {
   "cell_type": "code",
   "execution_count": 2,
   "metadata": {},
   "outputs": [],
   "source": [
    "import json\n",
    "import numpy as np\n",
    "\n",
    "stl = ['link0.stl', 'link1.stl', 'link2.stl']\n",
    "joint = [[0.0, 0.0, 0.0], [-35.0, -4.94, 11.0], [-35.0, -4.94, 11.0]]\n",
    "axis = [[0.0, 0.0, 1.0], [0.0, 1.0, 0.0], [0.0, 1.0, 0.0]]\n",
    "axis_range = [[0.0, 0.0], [-np.pi, np.pi], [-np.pi, np.pi]]\n",
    "root_idx = [None, 0, 0]\n",
    "data = {'stl': stl, 'joint': joint, 'axis': axis, 'axis_range': axis_range, 'root_idx': root_idx}\n",
    "        \n",
    "with open(\"hinge19_info.json\", \"w\") as json_file:\n",
    "    json.dump(data, json_file) "
   ]
  },
  {
   "cell_type": "code",
   "execution_count": 67,
   "metadata": {},
   "outputs": [],
   "source": [
    "import json\n",
    "import numpy as np\n",
    "\n",
    "stl = ['link0.stl', 'link1.stl', 'link2.stl']\n",
    "joint = [[0.0, 0.0, 0.0], [-18.3, -5.22, 33.0], [18.4, -5.22, 33.0]]\n",
    "axis = [[0.0, 0.0, 1.0], [0.0, 0.0, 1.0], [0.0, 0.0, 1.0]]\n",
    "axis_range = [[0.0, 0.0], [-0.75*np.pi, 0.0], [0.0, 0.75*np.pi]]\n",
    "root_idx = [None, 0, 0]\n",
    "data = {'stl': stl, 'joint': joint, 'axis': axis, 'axis_range': axis_range, 'root_idx': root_idx}\n",
    "        \n",
    "with open(\"refrigerator0_info.json\", \"w\") as json_file:\n",
    "    json.dump(data, json_file)"
   ]
  },
  {
   "cell_type": "code",
   "execution_count": 69,
   "metadata": {},
   "outputs": [],
   "source": [
    "import json\n",
    "import numpy as np\n",
    "\n",
    "stl = ['link0.stl', 'link1.stl', 'link2.stl', 'link3.stl']\n",
    "joint = [[0.0, 0.0, 0.0], [18.33, 22.56, 20.0], [-51.46, 31.81, 75.0], [-64.92, 31.81, 41.15]]\n",
    "axis = [[0.0, 0.0, 1.0], [0.0, 0.0, 1.0], [0.0, 1.0, 0.0], [0.0, 1.0, 0.0]]\n",
    "axis_range = [[0.0, 0.0], [-np.pi, np.pi], [0.0, np.pi/6.0], [0.0, np.pi/6.0]]\n",
    "root_idx = [None, 0, 1, 2]\n",
    "data = {'stl': stl, 'joint': joint, 'axis': axis, 'axis_range': axis_range, 'root_idx': root_idx}\n",
    "        \n",
    "with open(\"excavator0_info.json\", \"w\") as json_file:\n",
    "    json.dump(data, json_file)"
   ]
  },
  {
   "cell_type": "code",
   "execution_count": 71,
   "metadata": {},
   "outputs": [],
   "source": [
    "import json\n",
    "import numpy as np\n",
    "\n",
    "stl = ['link0.stl', 'link1.stl', 'link2.stl', 'link3.stl', 'link4.stl']\n",
    "joint = [[0.0, 0.0, 0.0], [32.89, 5.12, 16.5], [9.99, 7.12, 46.93], [-26.2, 7.12, 52.93], [-33.41, 7.12, 13.93]]\n",
    "axis = [[0.0, 0.0, 1.0], [0.0, 0.0, 1.0], [0.0, 1.0, 0.0], [0.0, 1.0, 0.0], [0.0, 1.0, 0.0]]\n",
    "axis_range = [[0.0, 0.0], [-np.pi, np.pi], [-np.pi/6.0, np.pi/6.0], [-np.pi/6.0, np.pi/6.0], [-np.pi/3.0, 0.0]]\n",
    "root_idx = [None, 0, 1, 2, 3]\n",
    "data = {'stl': stl, 'joint': joint, 'axis': axis, 'axis_range': axis_range, 'root_idx': root_idx}\n",
    "        \n",
    "with open(\"excavator1_info.json\", \"w\") as json_file:\n",
    "    json.dump(data, json_file)"
   ]
  },
  {
   "cell_type": "code",
   "execution_count": null,
   "metadata": {},
   "outputs": [],
   "source": [
    "axis1 = np.array([26.91, 0.94, 23.90]) - np.array([0.0, 5.89, 5.0])\n",
    "axis2 = np.array([1.46, 2.86, 54.93]) - np.array([26.91, 0.94, 23.90])\n",
    "axis1 = axis1 / np.linalg.norm(axis1)\n",
    "axis2 = axis2 / np.linalg.norm(axis2)\n",
    "print(axis1, axis2)"
   ]
  },
  {
   "cell_type": "code",
   "execution_count": 77,
   "metadata": {},
   "outputs": [
    {
     "name": "stdout",
     "output_type": "stream",
     "text": [
      "[ 25.68   0.67 -30.61]\n",
      "1.4945274718351365\n"
     ]
    }
   ],
   "source": [
    "axis1 = np.array([27.53, 1.03, 13.38]) - np.array([1.85, 0.36, 43.99])\n",
    "print(axis1)\n",
    "angle = np.arctan(axis1[1] / axis1[0])\n",
    "print(angle * 180.0 / np.pi)"
   ]
  },
  {
   "cell_type": "code",
   "execution_count": 80,
   "metadata": {},
   "outputs": [
    {
     "name": "stdout",
     "output_type": "stream",
     "text": [
      "21.059268571065335\n"
     ]
    }
   ],
   "source": [
    "joint = [[0.0, 0.0, 0.0], [27.54, 0.31, 13.38], [1.86, 0.31, 43.99], [-25.91, -2.39, 55.98], [-25.90, 2.36, 56.25]]\n",
    "angle = np.arctan((54.86-43.99)/(1.86+26.37))\n",
    "print(angle * 180.0 / np.pi)"
   ]
  },
  {
   "cell_type": "code",
   "execution_count": 82,
   "metadata": {},
   "outputs": [],
   "source": [
    "import json\n",
    "import numpy as np\n",
    "\n",
    "stl = ['link0.stl', 'link1.stl', 'link2.stl', 'link3.stl', 'link4.stl']\n",
    "joint = [[0.0, 0.0, 0.0], [27.54, 0.31, 13.38], [1.86, 0.31, 43.99], [-29.28, -1.64, 43.29], [-29.25, 1.42, 43.59]]\n",
    "axis = [[0.0, 0.0, 1.0], [0.0, 1.0, 0.0], [0.0, 1.0, 0.0], [0.0, 0.0, 1.0], [0.0, 0.0, 1.0]]\n",
    "axis_range = [[0.0, 0.0], [0.0, np.pi/2.0], [0.0, np.pi/2.0], [-np.pi/6.0, np.pi/6.0], [-np.pi/6.0, np.pi/6.0]]\n",
    "root_idx = [None, 0, 1, 2, 2]\n",
    "data = {'stl': stl, 'joint': joint, 'axis': axis, 'axis_range': axis_range, 'root_idx': root_idx}\n",
    "        \n",
    "with open(\"arm0_info.json\", \"w\") as json_file:\n",
    "    json.dump(data, json_file)"
   ]
  },
  {
   "cell_type": "code",
   "execution_count": 83,
   "metadata": {},
   "outputs": [],
   "source": [
    "import json\n",
    "import numpy as np\n",
    "\n",
    "stl = ['link0.stl', 'link1.stl', 'link2.stl', 'link3.stl', 'link4.stl', 'link5.stl']\n",
    "joint = [[0.0, 0.0, 0.0], [0.0, -0.68, 27.5], [0.0, -0.68, 40.42], [0.0, -60.74, 102.0], [-13.5, 17.25, 135.0], [13.5, 17.25, 135.0]]\n",
    "axis = [[0.0, 0.0, 1.0], [0.0, 0.0, 1.0], [1.0, 0.0, 0.0], [1.0, 0.0, 0.0], [0.0, 0.0, 1.0], [0.0, 0.0, 1.0]]\n",
    "axis_range = [[0.0, 0.0], [-np.pi, np.pi], [-np.pi/6.0, np.pi/6.0], [-np.pi/6.0, np.pi/6.0], [-np.pi/6.0, np.pi/6.0], [-np.pi/6.0, np.pi/6.0]]\n",
    "root_idx = [None, 0, 1, 2, 3, 3]\n",
    "data = {'stl': stl, 'joint': joint, 'axis': axis, 'axis_range': axis_range, 'root_idx': root_idx}\n",
    "        \n",
    "with open(\"arm1_info.json\", \"w\") as json_file:\n",
    "    json.dump(data, json_file)"
   ]
  },
  {
   "cell_type": "code",
   "execution_count": 85,
   "metadata": {},
   "outputs": [],
   "source": [
    "import json\n",
    "import numpy as np\n",
    "\n",
    "stl = ['link0.stl', 'link1.stl', 'link2.stl', 'link3.stl']\n",
    "joint = [[0.0, 0.0, 0.0], [23.75, 2.69, 33.0], [32.77, 4.19, 64.00], [-17.25, 3.84, 84.00]]\n",
    "axis = [[0.0, 0.0, 1.0], [0.0, 1.0, 0.0], [0.0, 1.0, 0.0], [0.0, 1.0, 0.0]]\n",
    "axis_range = [[0.0, 0.0], [0.0, np.pi/3.0], [-np.pi/6.0, np.pi/2.0], [-np.pi/6.0, np.pi/2.0]]\n",
    "root_idx = [None, 0, 1, 2]\n",
    "data = {'stl': stl, 'joint': joint, 'axis': axis, 'axis_range': axis_range, 'root_idx': root_idx}\n",
    "        \n",
    "with open(\"arm2_info.json\", \"w\") as json_file:\n",
    "    json.dump(data, json_file)"
   ]
  },
  {
   "cell_type": "code",
   "execution_count": 86,
   "metadata": {},
   "outputs": [],
   "source": [
    "import json\n",
    "import numpy as np\n",
    "\n",
    "stl = ['link0.stl', 'link1.stl', 'link2.stl', 'link3.stl']\n",
    "joint = [[0.0, 0.0, 0.0], [-25.5, 0.0, 63.0], [-21.5, 0.0, 105.5], [-19.9, 0.0, 133.75]]\n",
    "axis = [[0.0, 0.0, 1.0], [0.0, 1.0, 0.0], [0.0, 1.0, 0.0], [0.0, 1.0, 0.0]]\n",
    "axis_range = [[0.0, 0.0], [0.0, np.pi/6.0], [-np.pi/3.0, np.pi/3.0], [-np.pi/2.0, 0.0]]\n",
    "root_idx = [None, 0, 1, 2]\n",
    "data = {'stl': stl, 'joint': joint, 'axis': axis, 'axis_range': axis_range, 'root_idx': root_idx}\n",
    "        \n",
    "with open(\"arm3_info.json\", \"w\") as json_file:\n",
    "    json.dump(data, json_file)"
   ]
  },
  {
   "cell_type": "code",
   "execution_count": 87,
   "metadata": {},
   "outputs": [],
   "source": [
    "import json\n",
    "import numpy as np\n",
    "\n",
    "stl = ['link0.stl', 'link1.stl', 'link2.stl', 'link3.stl']\n",
    "joint = [[0.0, 0.0, 0.0], [7.88, -0.5, 29.5], [10.75, -0.5, 67.5], [-26.87, -0.5, 59.37]]\n",
    "axis = [[0.0, 0.0, 1.0], [0.0, 1.0, 0.0], [0.0, 1.0, 0.0], [0.0, 1.0, 0.0]]\n",
    "axis_range = [[0.0, 0.0], [0.0, np.pi/4.0], [0.0, np.pi/4.0], [0.0, np.pi/4.0]]\n",
    "root_idx = [None, 0, 1, 2]\n",
    "data = {'stl': stl, 'joint': joint, 'axis': axis, 'axis_range': axis_range, 'root_idx': root_idx}\n",
    "        \n",
    "with open(\"arm4_info.json\", \"w\") as json_file:\n",
    "    json.dump(data, json_file)"
   ]
  },
  {
   "cell_type": "code",
   "execution_count": 88,
   "metadata": {},
   "outputs": [],
   "source": [
    "import json\n",
    "import numpy as np\n",
    "\n",
    "stl = ['link0.stl', 'link1.stl', 'link2.stl', 'link3.stl']\n",
    "joint = [[0.0, 0.0, 0.0], [-40.0, 13.5, 50.0], [19.0, 13.5, 50.0], [48.0, -15.5, 59.37]]\n",
    "axis = [[0.0, 0.0, 1.0], [0.0, 0.0, 1.0], [0.0, 0.0, 1.0], [0.0, 0.0, 1.0]]\n",
    "axis_range = [[0.0, 0.0], [-np.pi, np.pi], [-np.pi/4.0, 3.0*np.pi/4.0], [-np.pi, np.pi]]\n",
    "root_idx = [None, 0, 1, 2]\n",
    "data = {'stl': stl, 'joint': joint, 'axis': axis, 'axis_range': axis_range, 'root_idx': root_idx}\n",
    "        \n",
    "with open(\"arm5_info.json\", \"w\") as json_file:\n",
    "    json.dump(data, json_file)"
   ]
  },
  {
   "cell_type": "code",
   "execution_count": 89,
   "metadata": {},
   "outputs": [],
   "source": [
    "import json\n",
    "import numpy as np\n",
    "\n",
    "stl = ['link0.stl', 'link1.stl', 'link2.stl', 'link3.stl', 'link4.stl']\n",
    "joint = [[0.0, 0.0, 0.0], [0.25, -9.78, 7.29], [0.25, -36.23, 70.5], [-0.05, 20.27, 72.52], [-0.22, 28.77, 72.81]]\n",
    "axis = [[0.0, 0.0, 1.0], [0.0, 0.0, 1.0], [1.0, 0.0, 0.0], [0.0, 1.0, 0.0], [0.0, 0.0, -1.0]]\n",
    "axis_range = [[0.0, 0.0], [-np.pi, np.pi], [0, np.pi/2.0], [-np.pi, np.pi], [-np.pi/6.0, np.pi/6.0]]\n",
    "root_idx = [None, 0, 1, 2, 3]\n",
    "data = {'stl': stl, 'joint': joint, 'axis': axis, 'axis_range': axis_range, 'root_idx': root_idx}\n",
    "        \n",
    "with open(\"arm6_info.json\", \"w\") as json_file:\n",
    "    json.dump(data, json_file)"
   ]
  },
  {
   "cell_type": "code",
   "execution_count": 91,
   "metadata": {},
   "outputs": [],
   "source": [
    "import json\n",
    "import numpy as np\n",
    "\n",
    "stl = ['link0.stl', 'link1.stl', 'link2.stl', 'link3.stl', 'link4.stl']\n",
    "joint = [[0.0, 0.0, 0.0], [-51.32, 1.0, 50.0], [-97.0, -20.0, 95.0], [1.0, -20.0, 192.0], [64.31, -25.14, 192.03]]\n",
    "axis = [[0.0, 0.0, 1.0], [0.0, 0.0, 1.0], [0.0, 1.0, 0.0], [0.0, 1.0, 0.0], [1.0, 0.0, 0.0]]\n",
    "axis_range = [[0.0, 0.0], [-np.pi, np.pi], [-np.pi/2.0, 0.0], [-np.pi/2.0, 0.0], [-np.pi, np.pi]]\n",
    "root_idx = [None, 0, 1, 2, 3]\n",
    "data = {'stl': stl, 'joint': joint, 'axis': axis, 'axis_range': axis_range, 'root_idx': root_idx}\n",
    "        \n",
    "with open(\"arm7_info.json\", \"w\") as json_file:\n",
    "    json.dump(data, json_file)"
   ]
  },
  {
   "cell_type": "code",
   "execution_count": 92,
   "metadata": {},
   "outputs": [],
   "source": [
    "import json\n",
    "import numpy as np\n",
    "\n",
    "stl = ['link0.stl', 'link1.stl', 'link2.stl', 'link3.stl']\n",
    "joint = [[0.0, 0.0, 0.0], [2.5, -23.42, 37.24], [1.95, -23.44, 88.24], [2.25, 21.24, 108.32]]\n",
    "axis = [[0.0, 0.0, 1.0], [1.0, 0.0, 0.0], [1.0, 0.0, 0.0], [1.0, 0.0, 0.0]]\n",
    "axis_range = [[0.0, 0.0], [-np.pi/4.0, np.pi/4.0], [0.0, np.pi/2.0], [-np.pi/6.0, np.pi/2.0]]\n",
    "root_idx = [None, 0, 1, 2]\n",
    "data = {'stl': stl, 'joint': joint, 'axis': axis, 'axis_range': axis_range, 'root_idx': root_idx}\n",
    "        \n",
    "with open(\"arm8_info.json\", \"w\") as json_file:\n",
    "    json.dump(data, json_file)"
   ]
  },
  {
   "cell_type": "code",
   "execution_count": 93,
   "metadata": {},
   "outputs": [],
   "source": [
    "import json\n",
    "import numpy as np\n",
    "\n",
    "stl = ['link0.stl', 'link1.stl', 'link2.stl', 'link3.stl', 'link4.stl']\n",
    "joint = [[0.0, 0.0, 0.0], [0.0, 0.0, 37.07], [2.0, 10.0, 66.0], [2.0, 9.0, 144.0], [2.0, 9.0, 230.0]]\n",
    "axis = [[0.0, 0.0, 1.0], [0.0, 0.0, 1.0], [1.0, 0.0, 0.0], [1.0, 0.0, 0.0], [1.0, 0.0, 0.0]]\n",
    "axis_range = [[0.0, 0.0], [-np.pi, np.pi], [-np.pi/2.0, np.pi/2.0], [-np.pi/4.0, np.pi/4.0], [-np.pi/4.0, np.pi/4.0]]\n",
    "root_idx = [None, 0, 1, 2, 3]\n",
    "data = {'stl': stl, 'joint': joint, 'axis': axis, 'axis_range': axis_range, 'root_idx': root_idx}\n",
    "        \n",
    "with open(\"arm9_info.json\", \"w\") as json_file:\n",
    "    json.dump(data, json_file)"
   ]
  },
  {
   "cell_type": "code",
   "execution_count": 94,
   "metadata": {},
   "outputs": [],
   "source": [
    "import json\n",
    "import numpy as np\n",
    "\n",
    "stl = ['link0.stl', 'link1.stl', 'link2.stl', 'link3.stl', 'link4.stl']\n",
    "joint = [[0.0, 0.0, 0.0], [26.0, 5.0, 51.5], [-17.0, -22.5, 168.5], [15.0, -19.5, 95.5], [1.5, 32.75, 112.63]]\n",
    "axis = [[0.0, 0.0, 1.0], [1.0, 0.0, 0.0], [1.0, 0.0, 0.0], [1.0, 0.0, 0.0], [0.0, 0.0, 1.0]]\n",
    "axis_range = [[0.0, 0.0], [0.0, np.pi/2.0], [0.0, np.pi/2.0], [0.0, -np.pi/4.0], [-np.pi, np.pi]]\n",
    "root_idx = [None, 0, 1, 2, 3]\n",
    "data = {'stl': stl, 'joint': joint, 'axis': axis, 'axis_range': axis_range, 'root_idx': root_idx}\n",
    "        \n",
    "with open(\"arm10_info.json\", \"w\") as json_file:\n",
    "    json.dump(data, json_file)"
   ]
  },
  {
   "cell_type": "code",
   "execution_count": 95,
   "metadata": {},
   "outputs": [],
   "source": [
    "import json\n",
    "import numpy as np\n",
    "\n",
    "stl = ['link0.stl', 'link1.stl', 'link2.stl', 'link3.stl', 'link4.stl']\n",
    "joint = [[0.0, 0.0, 0.0], [81.0, -5.0, 44.5], [88.0, 1.5, 72.0], [23.0, -17.5, 72.0], [-39.0, 2.5, 67.0]]\n",
    "axis = [[0.0, 0.0, 1.0], [0.0, 0.0, 1.0], [0.0, 1.0, 0.0], [0.0, 1.0, 0.0], [1.0, 0.0, 0.0]]\n",
    "axis_range = [[0.0, 0.0],  [-np.pi, np.pi], [0.0, np.pi/2.0], [0.0, np.pi/2.0], [-np.pi, np.pi]]\n",
    "root_idx = [None, 0, 1, 2, 3]\n",
    "data = {'stl': stl, 'joint': joint, 'axis': axis, 'axis_range': axis_range, 'root_idx': root_idx}\n",
    "        \n",
    "with open(\"arm11_info.json\", \"w\") as json_file:\n",
    "    json.dump(data, json_file)"
   ]
  },
  {
   "cell_type": "code",
   "execution_count": 96,
   "metadata": {},
   "outputs": [],
   "source": [
    "import json\n",
    "import numpy as np\n",
    "\n",
    "stl = ['link0.stl', 'link1.stl', 'link2.stl', 'link3.stl']\n",
    "joint = [[0.0, 0.0, 0.0], [26.47, 1.4, 11.0], [21.21, -0.17, 72.42], [10.42, -0.79, 133.47]]\n",
    "axis = [[0.0, 0.0, 1.0], [0.0, 0.0, 1.0], [0.0, 1.0, 0.0], [0.0, 1.0, 0.0]]\n",
    "axis_range = [[0.0, 0.0], [-np.pi, np.pi], [-np.pi/2.0, np.pi/2.0], [0.0, np.pi]]\n",
    "root_idx = [None, 0, 1, 2]\n",
    "data = {'stl': stl, 'joint': joint, 'axis': axis, 'axis_range': axis_range, 'root_idx': root_idx}\n",
    "        \n",
    "with open(\"arm12_info.json\", \"w\") as json_file:\n",
    "    json.dump(data, json_file)"
   ]
  },
  {
   "cell_type": "code",
   "execution_count": 97,
   "metadata": {},
   "outputs": [],
   "source": [
    "import json\n",
    "import numpy as np\n",
    "\n",
    "stl = ['link0.stl', 'link1.stl', 'link2.stl']\n",
    "joint = [[0.0, 0.0, 0.0], [12.79, -9.60, 0.0], [-12.33, -6.12, 0.0]]\n",
    "axis = [[0.0, 0.0, 1.0], [0.0, 0.0, 1.0], [0.0, 0.0, 1.0]]\n",
    "axis_range = [[0.0, 0.0], [-np.pi/2.0, 0.0], [-np.pi/5.0, np.pi/5.0]]\n",
    "root_idx = [None, 0, 0]\n",
    "data = {'stl': stl, 'joint': joint, 'axis': axis, 'axis_range': axis_range, 'root_idx': root_idx}\n",
    "        \n",
    "with open(\"leg0_info.json\", \"w\") as json_file:\n",
    "    json.dump(data, json_file) "
   ]
  },
  {
   "cell_type": "code",
   "execution_count": 98,
   "metadata": {},
   "outputs": [],
   "source": [
    "import json\n",
    "import numpy as np\n",
    "\n",
    "stl = ['link0.stl', 'link1.stl', 'link2.stl']\n",
    "joint = [[0.0, 0.0, 0.0], [-6.5, -0.26, 7.22], [2.36, -0.51, 25.73]]\n",
    "axis = [[0.0, 0.0, 1.0], [0.0, 1.0, 0.0], [0.0, 1.0, 0.0]]\n",
    "axis_range = [[0.0, 0.0], [0.0, 3.0*np.pi/4.0], [-3.0*np.pi/4.0, 0.0]]\n",
    "root_idx = [None, 0, 1]\n",
    "data = {'stl': stl, 'joint': joint, 'axis': axis, 'axis_range': axis_range, 'root_idx': root_idx}\n",
    "        \n",
    "with open(\"leg1_info.json\", \"w\") as json_file:\n",
    "    json.dump(data, json_file) "
   ]
  },
  {
   "cell_type": "code",
   "execution_count": 99,
   "metadata": {},
   "outputs": [],
   "source": [
    "import json\n",
    "import numpy as np\n",
    "\n",
    "stl = ['link0.stl', 'link1.stl', 'link2.stl', 'link3.stl']\n",
    "joint = [[0.0, 0.0, 0.0], [-26.0, 0.0, 10.0], [4.5, 0.0, 43.0], [36.5, 0.0, 52.0]]\n",
    "axis = [[0.0, 0.0, 1.0], [0.0, 1.0, 0.0], [0.0, 1.0, 0.0], [0.0, 1.0, 0.0]]\n",
    "axis_range = [[0.0, 0.0], [-np.pi/2.0, 0.0], [-np.pi/2.0, 0.0], [0.0, np.pi/2.0]]\n",
    "root_idx = [None, 0, 1, 2]\n",
    "data = {'stl': stl, 'joint': joint, 'axis': axis, 'axis_range': axis_range, 'root_idx': root_idx}\n",
    "        \n",
    "with open(\"leg2_info.json\", \"w\") as json_file:\n",
    "    json.dump(data, json_file) "
   ]
  },
  {
   "cell_type": "code",
   "execution_count": 103,
   "metadata": {},
   "outputs": [],
   "source": [
    "import json\n",
    "import numpy as np\n",
    "\n",
    "stl = ['link0.stl', 'link1.stl', 'link2.stl']\n",
    "joint = [[0.0, 0.0, 0.0], [-13.0, 0.0, 4.75], [33.0, 0.0, 4.75]]\n",
    "axis = [[0.0, 0.0, 1.0], [0.0, 1.0, 0.0], [0.0, 1.0, 0.0]]\n",
    "axis_range = [[0.0, 0.0], [-np.pi/4.0, np.pi/4.0], [-np.pi/4.0, np.pi/4.0]]\n",
    "root_idx = [None, 0, 1]\n",
    "data = {'stl': stl, 'joint': joint, 'axis': axis, 'axis_range': axis_range, 'root_idx': root_idx}\n",
    "        \n",
    "with open(\"leg3_info.json\", \"w\") as json_file:\n",
    "    json.dump(data, json_file) "
   ]
  },
  {
   "cell_type": "code",
   "execution_count": 105,
   "metadata": {},
   "outputs": [],
   "source": [
    "import json\n",
    "import numpy as np\n",
    "\n",
    "stl = ['link0.stl', 'link1.stl', 'link2.stl']\n",
    "joint = [[0.0, 0.0, 0.0], [10.0, 18.0, 14.75], [9.46, -29.0, 12.91]]\n",
    "axis = [[0.0, 0.0, 1.0], [0.0, 0.0, 1.0], [1.0, 0.0, 0.0]]\n",
    "axis_range = [[0.0, 0.0], [-np.pi/2.0, 0.0], [-np.pi/4.0, np.pi/4.0]]\n",
    "root_idx = [None, 0, 0]\n",
    "data = {'stl': stl, 'joint': joint, 'axis': axis, 'axis_range': axis_range, 'root_idx': root_idx}\n",
    "        \n",
    "with open(\"leg4_info.json\", \"w\") as json_file:\n",
    "    json.dump(data, json_file) "
   ]
  },
  {
   "cell_type": "code",
   "execution_count": 106,
   "metadata": {},
   "outputs": [],
   "source": [
    "import json\n",
    "import numpy as np\n",
    "\n",
    "stl = ['link0.stl', 'link1.stl']\n",
    "joint = [[0.0, 0.0, 0.0], [35.72, 0.0, 38.1]]\n",
    "axis = [[0.0, 0.0, 1.0], [0.0, 1.0, 0.0]]\n",
    "axis_range = [[0.0, 0.0], [0.0, np.pi]]\n",
    "root_idx = [None, 0]\n",
    "data = {'stl': stl, 'joint': joint, 'axis': axis, 'axis_range': axis_range, 'root_idx': root_idx}\n",
    "        \n",
    "with open(\"leg5_info.json\", \"w\") as json_file:\n",
    "    json.dump(data, json_file) "
   ]
  },
  {
   "cell_type": "code",
   "execution_count": 107,
   "metadata": {},
   "outputs": [],
   "source": [
    "import json\n",
    "import numpy as np\n",
    "\n",
    "stl = ['link0.stl', 'link1.stl']\n",
    "joint = [[0.0, 0.0, 0.0], [61.0, 0.0, 15.0]]\n",
    "axis = [[0.0, 0.0, 1.0], [0.0, 1.0, 0.0]]\n",
    "axis_range = [[0.0, 0.0], [-np.pi/4.0, np.pi/4.0]]\n",
    "root_idx = [None, 0]\n",
    "data = {'stl': stl, 'joint': joint, 'axis': axis, 'axis_range': axis_range, 'root_idx': root_idx}\n",
    "        \n",
    "with open(\"leg6_info.json\", \"w\") as json_file:\n",
    "    json.dump(data, json_file) "
   ]
  },
  {
   "cell_type": "code",
   "execution_count": 108,
   "metadata": {},
   "outputs": [],
   "source": [
    "import json\n",
    "import numpy as np\n",
    "\n",
    "stl = ['link0.stl', 'link1.stl']\n",
    "joint = [[0.0, 0.0, 0.0], [-0.5, 9.75, 80.0]]\n",
    "axis = [[0.0, 0.0, 1.0], [1.0, 0.0, 0.0]]\n",
    "axis_range = [[0.0, 0.0], [-np.pi/4.0, np.pi/4.0]]\n",
    "root_idx = [None, 0]\n",
    "data = {'stl': stl, 'joint': joint, 'axis': axis, 'axis_range': axis_range, 'root_idx': root_idx}\n",
    "        \n",
    "with open(\"leg7_info.json\", \"w\") as json_file:\n",
    "    json.dump(data, json_file)"
   ]
  },
  {
   "cell_type": "code",
   "execution_count": 111,
   "metadata": {},
   "outputs": [],
   "source": [
    "import json\n",
    "import numpy as np\n",
    "\n",
    "stl = ['link0.stl', 'link1.stl', 'link2.stl']\n",
    "joint = [[0.0, 0.0, 0.0], [-9.0, -8.0, 12.5], [-9.0, -8.0, 44.5]]\n",
    "axis = [[0.0, 0.0, 1.0], [0.0, 1.0, 0.0], [1.0, 0.0, 0.0]]\n",
    "axis_range = [[0.0, 0.0], [0.0, np.pi/2.0], [0.0, np.pi/2.0]]\n",
    "root_idx = [None, 0, 0]\n",
    "data = {'stl': stl, 'joint': joint, 'axis': axis, 'axis_range': axis_range, 'root_idx': root_idx}\n",
    "        \n",
    "with open(\"leg8_info.json\", \"w\") as json_file:\n",
    "    json.dump(data, json_file)"
   ]
  },
  {
   "cell_type": "code",
   "execution_count": 112,
   "metadata": {},
   "outputs": [],
   "source": [
    "import json\n",
    "import numpy as np\n",
    "\n",
    "stl = ['link0.stl', 'link1.stl', 'link2.stl']\n",
    "joint = [[0.0, 0.0, 0.0], [-28.0, 0.0, 0.0], [28.0, 0.0, 0.0]]\n",
    "axis = [[0.0, 0.0, 1.0], [0.0, 0.0, 1.0], [0.0, 0.0, 1.0]]\n",
    "axis_range = [[0.0, 0.0], [-np.pi/2.0, np.pi/2.0], [-np.pi/2.0, np.pi/2.0]]\n",
    "root_idx = [None, 0, 0]\n",
    "data = {'stl': stl, 'joint': joint, 'axis': axis, 'axis_range': axis_range, 'root_idx': root_idx}\n",
    "        \n",
    "with open(\"door0_info.json\", \"w\") as json_file:\n",
    "    json.dump(data, json_file)"
   ]
  },
  {
   "cell_type": "code",
   "execution_count": 113,
   "metadata": {},
   "outputs": [],
   "source": [
    "import json\n",
    "import numpy as np\n",
    "\n",
    "stl = ['link0.stl', 'link1.stl', 'link2.stl']\n",
    "joint = [[0.0, 0.0, 0.0], [-28.0, 0.0, 0.0], [-2.25, -1.75, 21.25]]\n",
    "axis = [[0.0, 0.0, 1.0], [0.0, 0.0, 1.0], [0.0, 1.0, 0.0]]\n",
    "axis_range = [[0.0, 0.0], [-np.pi/2.0, np.pi/2.0], [-np.pi/2.0, 0.0]]\n",
    "root_idx = [None, 0, 1]\n",
    "data = {'stl': stl, 'joint': joint, 'axis': axis, 'axis_range': axis_range, 'root_idx': root_idx}\n",
    "        \n",
    "with open(\"door1_info.json\", \"w\") as json_file:\n",
    "    json.dump(data, json_file)"
   ]
  },
  {
   "cell_type": "code",
   "execution_count": 3,
   "metadata": {},
   "outputs": [],
   "source": [
    "import json\n",
    "import numpy as np\n",
    "\n",
    "stl = ['link0.stl', 'link1.stl', 'link2.stl']\n",
    "joint = [[0.0, 0.0, 0.0], [50.70, -38.89, 21.12], [-50.70, -38.89, 21.12]]\n",
    "axis = [[0.0, 0.0, 1.0], [0.0, 0.0, 1.0], [0.0, 0.0, 1.0]]\n",
    "axis_range = [[0.0, 0.0], [-np.pi/3.0, np.pi/3.0], [-np.pi/3.0, np.pi/3.0]]\n",
    "root_idx = [None, 0, 0]\n",
    "data = {'stl': stl, 'joint': joint, 'axis': axis, 'axis_range': axis_range, 'root_idx': root_idx}\n",
    "        \n",
    "with open(\"glasses0_info.json\", \"w\") as json_file:\n",
    "    json.dump(data, json_file)"
   ]
  },
  {
   "cell_type": "code",
   "execution_count": 4,
   "metadata": {},
   "outputs": [],
   "source": [
    "import json\n",
    "import numpy as np\n",
    "\n",
    "stl = ['link0.stl', 'link1.stl', 'link2.stl']\n",
    "joint = [[0.0, 0.0, 0.0], [34.0, 39.0, 23.5], [-34.0, 39.0, 23.5]]\n",
    "axis = [[0.0, 0.0, 1.0], [0.0, 0.0, 1.0], [0.0, 0.0, 1.0]]\n",
    "axis_range = [[0.0, 0.0], [-np.pi/3.0, np.pi/3.0], [-np.pi/3.0, np.pi/3.0]]\n",
    "root_idx = [None, 0, 0]\n",
    "data = {'stl': stl, 'joint': joint, 'axis': axis, 'axis_range': axis_range, 'root_idx': root_idx}\n",
    "        \n",
    "with open(\"glasses1_info.json\", \"w\") as json_file:\n",
    "    json.dump(data, json_file)"
   ]
  },
  {
   "cell_type": "code",
   "execution_count": 5,
   "metadata": {},
   "outputs": [],
   "source": [
    "import json\n",
    "import numpy as np\n",
    "\n",
    "stl = ['link0.stl', 'link1.stl', 'link2.stl']\n",
    "joint = [[0.0, 0.0, 0.0], [69.0, -75.0, 46.0], [-69.0, -75.0, 46.0]]\n",
    "axis = [[0.0, 0.0, 1.0], [0.0, 0.0, 1.0], [0.0, 0.0, 1.0]]\n",
    "axis_range = [[0.0, 0.0], [-np.pi/3.0, np.pi/3.0], [-np.pi/3.0, np.pi/3.0]]\n",
    "root_idx = [None, 0, 0]\n",
    "data = {'stl': stl, 'joint': joint, 'axis': axis, 'axis_range': axis_range, 'root_idx': root_idx}\n",
    "        \n",
    "with open(\"glasses2_info.json\", \"w\") as json_file:\n",
    "    json.dump(data, json_file)"
   ]
  },
  {
   "cell_type": "code",
   "execution_count": 6,
   "metadata": {},
   "outputs": [],
   "source": [
    "import json\n",
    "import numpy as np\n",
    "\n",
    "stl = ['link0.stl', 'link1.stl', 'link2.stl']\n",
    "joint = [[0.0, 0.0, 0.0], [53.5, 45.5, 32.5], [-53.5, 45.5, 32.5]]\n",
    "axis = [[0.0, 0.0, 1.0], [0.0, 0.0, 1.0], [0.0, 0.0, 1.0]]\n",
    "axis_range = [[0.0, 0.0], [-np.pi/3.0, np.pi/3.0], [-np.pi/3.0, np.pi/3.0]]\n",
    "root_idx = [None, 0, 0]\n",
    "data = {'stl': stl, 'joint': joint, 'axis': axis, 'axis_range': axis_range, 'root_idx': root_idx}\n",
    "        \n",
    "with open(\"glasses3_info.json\", \"w\") as json_file:\n",
    "    json.dump(data, json_file)"
   ]
  },
  {
   "cell_type": "code",
   "execution_count": 7,
   "metadata": {},
   "outputs": [],
   "source": [
    "import json\n",
    "import numpy as np\n",
    "\n",
    "stl = ['link0.stl', 'link1.stl', 'link2.stl']\n",
    "joint = [[0.0, 0.0, 0.0], [22.0, -21.73, 13.5], [-22.0, -21.73, 13.5]]\n",
    "axis = [[0.0, 0.0, 1.0], [0.0, 0.0, 1.0], [0.0, 0.0, 1.0]]\n",
    "axis_range = [[0.0, 0.0], [-np.pi/3.0, np.pi/3.0], [-np.pi/3.0, np.pi/3.0]]\n",
    "root_idx = [None, 0, 0]\n",
    "data = {'stl': stl, 'joint': joint, 'axis': axis, 'axis_range': axis_range, 'root_idx': root_idx}\n",
    "        \n",
    "with open(\"glasses4_info.json\", \"w\") as json_file:\n",
    "    json.dump(data, json_file)"
   ]
  },
  {
   "cell_type": "code",
   "execution_count": 8,
   "metadata": {},
   "outputs": [],
   "source": [
    "import json\n",
    "import numpy as np\n",
    "\n",
    "stl = ['link0.stl', 'link1.stl', 'link2.stl']\n",
    "joint = [[0.0, 0.0, 0.0], [70.5, -62.5, 47.0], [-70.5, -62.5, 47.0]]\n",
    "axis = [[0.0, 0.0, 1.0], [0.0, 0.0, 1.0], [0.0, 0.0, 1.0]]\n",
    "axis_range = [[0.0, 0.0], [-np.pi/3.0, np.pi/3.0], [-np.pi/3.0, np.pi/3.0]]\n",
    "root_idx = [None, 0, 0]\n",
    "data = {'stl': stl, 'joint': joint, 'axis': axis, 'axis_range': axis_range, 'root_idx': root_idx}\n",
    "        \n",
    "with open(\"glasses5_info.json\", \"w\") as json_file:\n",
    "    json.dump(data, json_file)"
   ]
  },
  {
   "cell_type": "code",
   "execution_count": 9,
   "metadata": {},
   "outputs": [],
   "source": [
    "import json\n",
    "import numpy as np\n",
    "\n",
    "stl = ['link0.stl', 'link1.stl', 'link2.stl']\n",
    "joint = [[0.0, 0.0, 0.0], [17.14, -15.83, 13.69], [-17.14, -15.83, 13.69]]\n",
    "axis = [[0.0, 0.0, 1.0], [0.0, 0.0, 1.0], [0.0, 0.0, 1.0]]\n",
    "axis_range = [[0.0, 0.0], [-np.pi/3.0, np.pi/3.0], [-np.pi/3.0, np.pi/3.0]]\n",
    "root_idx = [None, 0, 0]\n",
    "data = {'stl': stl, 'joint': joint, 'axis': axis, 'axis_range': axis_range, 'root_idx': root_idx}\n",
    "        \n",
    "with open(\"glasses6_info.json\", \"w\") as json_file:\n",
    "    json.dump(data, json_file)"
   ]
  },
  {
   "cell_type": "code",
   "execution_count": 10,
   "metadata": {},
   "outputs": [],
   "source": [
    "import json\n",
    "import numpy as np\n",
    "\n",
    "stl = ['link0.stl', 'link1.stl', 'link2.stl']\n",
    "joint = [[0.0, 0.0, 0.0], [33.38, -30.21, 20.11], [-33.38, -30.21, 20.11]]\n",
    "axis = [[0.0, 0.0, 1.0], [0.0, 0.0, 1.0], [0.0, 0.0, 1.0]]\n",
    "axis_range = [[0.0, 0.0], [-np.pi/3.0, np.pi/3.0], [-np.pi/3.0, np.pi/3.0]]\n",
    "root_idx = [None, 0, 0]\n",
    "data = {'stl': stl, 'joint': joint, 'axis': axis, 'axis_range': axis_range, 'root_idx': root_idx}\n",
    "        \n",
    "with open(\"glasses7_info.json\", \"w\") as json_file:\n",
    "    json.dump(data, json_file)"
   ]
  },
  {
   "cell_type": "code",
   "execution_count": 11,
   "metadata": {},
   "outputs": [],
   "source": [
    "import json\n",
    "import numpy as np\n",
    "\n",
    "stl = ['link0.stl', 'link1.stl', 'link2.stl']\n",
    "joint = [[0.0, 0.0, 0.0], [74.5, -48.5, 27.5], [-74.5, -48.5, 27.5]]\n",
    "axis = [[0.0, 0.0, 1.0], [0.0, 0.0, 1.0], [0.0, 0.0, 1.0]]\n",
    "axis_range = [[0.0, 0.0], [-np.pi/3.0, np.pi/3.0], [-np.pi/3.0, np.pi/3.0]]\n",
    "root_idx = [None, 0, 0]\n",
    "data = {'stl': stl, 'joint': joint, 'axis': axis, 'axis_range': axis_range, 'root_idx': root_idx}\n",
    "        \n",
    "with open(\"glasses8_info.json\", \"w\") as json_file:\n",
    "    json.dump(data, json_file)"
   ]
  },
  {
   "cell_type": "code",
   "execution_count": 12,
   "metadata": {},
   "outputs": [],
   "source": [
    "import json\n",
    "import numpy as np\n",
    "\n",
    "stl = ['link0.stl', 'link1.stl', 'link2.stl']\n",
    "joint = [[0.0, 0.0, 0.0], [43.5, -30.1, 23.0], [-43.5, -30.1, 23.0]]\n",
    "axis = [[0.0, 0.0, 1.0], [0.0, 0.0, 1.0], [0.0, 0.0, 1.0]]\n",
    "axis_range = [[0.0, 0.0], [-np.pi/3.0, np.pi/3.0], [-np.pi/3.0, np.pi/3.0]]\n",
    "root_idx = [None, 0, 0]\n",
    "data = {'stl': stl, 'joint': joint, 'axis': axis, 'axis_range': axis_range, 'root_idx': root_idx}\n",
    "        \n",
    "with open(\"glasses9_info.json\", \"w\") as json_file:\n",
    "    json.dump(data, json_file)"
   ]
  },
  {
   "cell_type": "code",
   "execution_count": 3,
   "metadata": {},
   "outputs": [],
   "source": [
    "import json\n",
    "import numpy as np\n",
    "\n",
    "stl = ['link0.stl', 'link1.stl']\n",
    "joint = [[0.0, 0.0, 0.0], [8.015, -1.08, 16.5]]\n",
    "axis = [[0.0, 0.0, 1.0], [0.0, 0.0, 1.0]]\n",
    "axis_range = [[0.0, 0.0], [0.0, np.pi]]\n",
    "root_idx = [None, 0]\n",
    "data = {'stl': stl, 'joint': joint, 'axis': axis, 'axis_range': axis_range, 'root_idx': root_idx}\n",
    "        \n",
    "with open(\"door2_info.json\", \"w\") as json_file:\n",
    "    json.dump(data, json_file)"
   ]
  },
  {
   "cell_type": "code",
   "execution_count": 4,
   "metadata": {},
   "outputs": [],
   "source": [
    "import json\n",
    "import numpy as np\n",
    "\n",
    "stl = ['link0.stl', 'link1.stl']\n",
    "joint = [[0.0, 0.0, 0.0], [-26.0, -4.99, 31.0]]\n",
    "axis = [[0.0, 0.0, 1.0], [0.0, 0.0, 1.0]]\n",
    "axis_range = [[0.0, 0.0], [-np.pi/2.0, 0.0]]\n",
    "root_idx = [None, 0]\n",
    "data = {'stl': stl, 'joint': joint, 'axis': axis, 'axis_range': axis_range, 'root_idx': root_idx}\n",
    "        \n",
    "with open(\"door3_info.json\", \"w\") as json_file:\n",
    "    json.dump(data, json_file)"
   ]
  },
  {
   "cell_type": "code",
   "execution_count": 5,
   "metadata": {},
   "outputs": [],
   "source": [
    "import json\n",
    "import numpy as np\n",
    "\n",
    "stl = ['link0.stl', 'link1.stl']\n",
    "joint = [[0.0, 0.0, 0.0], [-26.0, 0.0, 51.5]]\n",
    "axis = [[0.0, 0.0, 1.0], [0.0, 0.0, 1.0]]\n",
    "axis_range = [[0.0, 0.0], [-np.pi/2.0, np.pi/2.0]]\n",
    "root_idx = [None, 0]\n",
    "data = {'stl': stl, 'joint': joint, 'axis': axis, 'axis_range': axis_range, 'root_idx': root_idx}\n",
    "        \n",
    "with open(\"door4_info.json\", \"w\") as json_file:\n",
    "    json.dump(data, json_file)"
   ]
  },
  {
   "cell_type": "code",
   "execution_count": 8,
   "metadata": {},
   "outputs": [],
   "source": [
    "import json\n",
    "import numpy as np\n",
    "\n",
    "stl = ['link0.stl', 'link1.stl']\n",
    "joint = [[0.0, 0.0, 0.0], [-22.06, 0.0, 56.5]]\n",
    "axis = [[0.0, 0.0, 1.0], [0.0, 0.0, 1.0]]\n",
    "axis_range = [[0.0, 0.0], [-np.pi/2.0, np.pi/2.0]]\n",
    "root_idx = [None, 0]\n",
    "data = {'stl': stl, 'joint': joint, 'axis': axis, 'axis_range': axis_range, 'root_idx': root_idx}\n",
    "        \n",
    "with open(\"door5_info.json\", \"w\") as json_file:\n",
    "    json.dump(data, json_file)"
   ]
  },
  {
   "cell_type": "code",
   "execution_count": 9,
   "metadata": {},
   "outputs": [],
   "source": [
    "import json\n",
    "import numpy as np\n",
    "\n",
    "stl = ['link0.stl', 'link1.stl']\n",
    "joint = [[0.0, 0.0, 0.0], [-15.5, 0.0, 31.0]]\n",
    "axis = [[0.0, 0.0, 1.0], [0.0, 0.0, 1.0]]\n",
    "axis_range = [[0.0, 0.0], [-np.pi/2.0, np.pi/2.0]]\n",
    "root_idx = [None, 0]\n",
    "data = {'stl': stl, 'joint': joint, 'axis': axis, 'axis_range': axis_range, 'root_idx': root_idx}\n",
    "        \n",
    "with open(\"door6_info.json\", \"w\") as json_file:\n",
    "    json.dump(data, json_file)"
   ]
  },
  {
   "cell_type": "code",
   "execution_count": 10,
   "metadata": {},
   "outputs": [],
   "source": [
    "import json\n",
    "import numpy as np\n",
    "\n",
    "stl = ['link0.stl', 'link1.stl']\n",
    "joint = [[0.0, 0.0, 0.0], [-28.0, -38.5, 65.0]]\n",
    "axis = [[0.0, 0.0, 1.0], [0.0, 0.0, 1.0]]\n",
    "axis_range = [[0.0, 0.0], [-np.pi/2.0, 0.0]]\n",
    "root_idx = [None, 0]\n",
    "data = {'stl': stl, 'joint': joint, 'axis': axis, 'axis_range': axis_range, 'root_idx': root_idx}\n",
    "        \n",
    "with open(\"door7_info.json\", \"w\") as json_file:\n",
    "    json.dump(data, json_file)"
   ]
  },
  {
   "cell_type": "code",
   "execution_count": 11,
   "metadata": {},
   "outputs": [],
   "source": [
    "import json\n",
    "import numpy as np\n",
    "\n",
    "stl = ['link0.stl', 'link1.stl']\n",
    "joint = [[0.0, 0.0, 0.0], [-9.73, -0.03, 22.5]]\n",
    "axis = [[0.0, 0.0, 1.0], [0.0, 0.0, 1.0]]\n",
    "axis_range = [[0.0, 0.0], [-np.pi/2.0, np.pi/2.0]]\n",
    "root_idx = [None, 0]\n",
    "data = {'stl': stl, 'joint': joint, 'axis': axis, 'axis_range': axis_range, 'root_idx': root_idx}\n",
    "        \n",
    "with open(\"door8_info.json\", \"w\") as json_file:\n",
    "    json.dump(data, json_file)"
   ]
  },
  {
   "cell_type": "code",
   "execution_count": 12,
   "metadata": {},
   "outputs": [],
   "source": [
    "import json\n",
    "import numpy as np\n",
    "\n",
    "stl = ['link0.stl', 'link1.stl', 'link2.stl', 'link3.stl', 'link4.stl']\n",
    "joint = [[0.0, 0.0, 0.0], [13.76, 0.0, 2.44], [4.69, 0.0, 2.44], [-6.29, 0.0, 2.44], [-15.37, 0.0, 2.44]]\n",
    "axis = [[0.0, 0.0, 1.0], [0.0, 0.0, 1.0], [0.0, 0.0, 1.0], [0.0, 0.0, 1.0], [0.0, 0.0, 1.0]]\n",
    "axis_range = [[0.0, 0.0], [-np.pi/5.0, np.pi/5.0], [-np.pi/5.0, np.pi/5.0], [-np.pi/5.0, np.pi/5.0], [-np.pi/5.0, np.pi/5.0]]\n",
    "root_idx = [None, 0, 1, 2, 3]\n",
    "data = {'stl': stl, 'joint': joint, 'axis': axis, 'axis_range': axis_range, 'root_idx': root_idx}\n",
    "        \n",
    "with open(\"snake0_info.json\", \"w\") as json_file:\n",
    "    json.dump(data, json_file)       "
   ]
  },
  {
   "cell_type": "code",
   "execution_count": 13,
   "metadata": {},
   "outputs": [],
   "source": [
    "import json\n",
    "import numpy as np\n",
    "\n",
    "stl = ['link0.stl', 'link1.stl', 'link2.stl']\n",
    "joint = [[0.0, 0.0, 0.0], [13.76, 0.0, 2.44], [4.69, 0.0, 2.44]]\n",
    "axis = [[0.0, 0.0, 1.0], [0.0, 0.0, 1.0], [0.0, 0.0, 1.0]]\n",
    "axis_range = [[0.0, 0.0], [-np.pi/5.0, np.pi/5.0], [-np.pi/5.0, np.pi/5.0]]\n",
    "root_idx = [None, 0, 1]\n",
    "data = {'stl': stl, 'joint': joint, 'axis': axis, 'axis_range': axis_range, 'root_idx': root_idx}\n",
    "        \n",
    "with open(\"snake1_info.json\", \"w\") as json_file:\n",
    "    json.dump(data, json_file)    "
   ]
  },
  {
   "cell_type": "code",
   "execution_count": 14,
   "metadata": {},
   "outputs": [],
   "source": [
    "import json\n",
    "import numpy as np\n",
    "\n",
    "stl = ['link0.stl', 'link1.stl', 'link2.stl']\n",
    "joint = [[0.0, 0.0, 0.0], [-19.0, 0.0, 5.0], [27.0, 1.0, 5.0]]\n",
    "axis = [[0.0, 0.0, 1.0], [0.0, 0.0, 1.0], [0.0, 0.0, 1.0]]\n",
    "axis_range = [[0.0, 0.0], [-np.pi/2.0, np.pi/2.0], [-np.pi/2.0, np.pi/2.0]]\n",
    "root_idx = [None, 0, 1]\n",
    "data = {'stl': stl, 'joint': joint, 'axis': axis, 'axis_range': axis_range, 'root_idx': root_idx}\n",
    "        \n",
    "with open(\"snake2_info.json\", \"w\") as json_file:\n",
    "    json.dump(data, json_file) "
   ]
  },
  {
   "cell_type": "code",
   "execution_count": 15,
   "metadata": {},
   "outputs": [],
   "source": [
    "import json\n",
    "import numpy as np\n",
    "\n",
    "stl = ['link0.stl', 'link1.stl', 'link2.stl', 'link3.stl', 'link4.stl']\n",
    "joint = [[0.0, 0.0, 0.0], [-65.0, 0.0, 8.0], [-20.0, 0.0, 8.0], [23.0, 0.0, 8.0], [67.0, 0.0, 8.0]]\n",
    "axis = [[0.0, 0.0, 1.0], [0.0, 0.0, 1.0], [0.0, 0.0, 1.0], [0.0, 0.0, 1.0], [0.0, 0.0, 1.0]]\n",
    "axis_range = [[0.0, 0.0], [-np.pi/3.0, np.pi/3.0], [-np.pi/3.0, np.pi/3.0], [-np.pi/3.0, np.pi/3.0], [-np.pi/3.0, np.pi/3.0]]\n",
    "root_idx = [None, 0, 1, 2, 3]\n",
    "data = {'stl': stl, 'joint': joint, 'axis': axis, 'axis_range': axis_range, 'root_idx': root_idx}\n",
    "        \n",
    "with open(\"snake3_info.json\", \"w\") as json_file:\n",
    "    json.dump(data, json_file) "
   ]
  },
  {
   "cell_type": "code",
   "execution_count": 16,
   "metadata": {},
   "outputs": [],
   "source": [
    "import json\n",
    "import numpy as np\n",
    "\n",
    "stl = ['link0.stl', 'link1.stl', 'link2.stl', 'link3.stl']\n",
    "joint = [[0.0, 0.0, 0.0], [-65.0, 0.0, 8.0], [-20.0, 0.0, 8.0], [23.0, 0.0, 8.0]]\n",
    "axis = [[0.0, 0.0, 1.0], [0.0, 0.0, 1.0], [0.0, 0.0, 1.0], [0.0, 0.0, 1.0]]\n",
    "axis_range = [[0.0, 0.0], [-np.pi/3.0, np.pi/3.0], [-np.pi/3.0, np.pi/3.0], [-np.pi/3.0, np.pi/3.0]]\n",
    "root_idx = [None, 0, 1, 2]\n",
    "data = {'stl': stl, 'joint': joint, 'axis': axis, 'axis_range': axis_range, 'root_idx': root_idx}\n",
    "        \n",
    "with open(\"snake4_info.json\", \"w\") as json_file:\n",
    "    json.dump(data, json_file) "
   ]
  },
  {
   "cell_type": "code",
   "execution_count": 17,
   "metadata": {},
   "outputs": [],
   "source": [
    "import json\n",
    "import numpy as np\n",
    "\n",
    "stl = ['link0.stl', 'link1.stl', 'link2.stl', 'link3.stl']\n",
    "joint = [[0.0, 0.0, 0.0], [-23.0, -0.51, 8.88], [-3.0, -0.51, 8.88], [17.0, -0.51, 8.88]]\n",
    "axis = [[0.0, 0.0, 1.0], [0.0, 0.0, 1.0], [0.0, 0.0, 1.0], [0.0, 0.0, 1.0]]\n",
    "axis_range = [[0.0, 0.0], [-np.pi/3.0, np.pi/3.0], [-np.pi/3.0, np.pi/3.0], [-np.pi/3.0, np.pi/3.0]]\n",
    "root_idx = [None, 0, 1, 2]\n",
    "data = {'stl': stl, 'joint': joint, 'axis': axis, 'axis_range': axis_range, 'root_idx': root_idx}\n",
    "        \n",
    "with open(\"snake5_info.json\", \"w\") as json_file:\n",
    "    json.dump(data, json_file) "
   ]
  },
  {
   "cell_type": "code",
   "execution_count": 18,
   "metadata": {},
   "outputs": [],
   "source": [
    "import json\n",
    "import numpy as np\n",
    "\n",
    "stl = ['link0.stl', 'link1.stl', 'link2.stl']\n",
    "joint = [[0.0, 0.0, 0.0], [-23.0, -0.51, 8.88], [-3.0, -0.51, 8.88]]\n",
    "axis = [[0.0, 0.0, 1.0], [0.0, 0.0, 1.0], [0.0, 0.0, 1.0]]\n",
    "axis_range = [[0.0, 0.0], [-np.pi/3.0, np.pi/3.0], [-np.pi/3.0, np.pi/3.0]]\n",
    "root_idx = [None, 0, 1]\n",
    "data = {'stl': stl, 'joint': joint, 'axis': axis, 'axis_range': axis_range, 'root_idx': root_idx}\n",
    "        \n",
    "with open(\"snake6_info.json\", \"w\") as json_file:\n",
    "    json.dump(data, json_file) "
   ]
  },
  {
   "cell_type": "code",
   "execution_count": 19,
   "metadata": {},
   "outputs": [],
   "source": [
    "import json\n",
    "import numpy as np\n",
    "\n",
    "stl = ['link0.stl', 'link1.stl', 'link2.stl', 'link3.stl']\n",
    "joint = [[0.0, 0.0, 0.0], [-29.0, -0.5, 5.0], [-3.0, -0.5, 5.0], [25.0, -0.5, 5.0]]\n",
    "axis = [[0.0, 0.0, 1.0], [0.0, 0.0, 1.0], [0.0, 0.0, 1.0], [0.0, 0.0, 1.0]]\n",
    "axis_range = [[0.0, 0.0], [-np.pi/3.0, np.pi/3.0], [-np.pi/3.0, np.pi/3.0], [-np.pi/3.0, np.pi/3.0]]\n",
    "root_idx = [None, 0, 1, 2]\n",
    "data = {'stl': stl, 'joint': joint, 'axis': axis, 'axis_range': axis_range, 'root_idx': root_idx}\n",
    "        \n",
    "with open(\"snake7_info.json\", \"w\") as json_file:\n",
    "    json.dump(data, json_file) "
   ]
  },
  {
   "cell_type": "code",
   "execution_count": 20,
   "metadata": {},
   "outputs": [],
   "source": [
    "import json\n",
    "import numpy as np\n",
    "\n",
    "stl = ['link0.stl', 'link1.stl', 'link2.stl']\n",
    "joint = [[0.0, 0.0, 0.0], [-29.0, -0.5, 5.0], [-3.0, -0.5, 5.0]]\n",
    "axis = [[0.0, 0.0, 1.0], [0.0, 0.0, 1.0], [0.0, 0.0, 1.0]]\n",
    "axis_range = [[0.0, 0.0], [-np.pi/3.0, np.pi/3.0], [-np.pi/3.0, np.pi/3.0]]\n",
    "root_idx = [None, 0, 1]\n",
    "data = {'stl': stl, 'joint': joint, 'axis': axis, 'axis_range': axis_range, 'root_idx': root_idx}\n",
    "        \n",
    "with open(\"snake8_info.json\", \"w\") as json_file:\n",
    "    json.dump(data, json_file) "
   ]
  },
  {
   "cell_type": "code",
   "execution_count": 21,
   "metadata": {},
   "outputs": [],
   "source": [
    "import json\n",
    "import numpy as np\n",
    "\n",
    "stl = ['link0.stl', 'link1.stl', 'link2.stl', 'link3.stl', 'link4.stl']\n",
    "joint = [[0.0, 0.0, 0.0], [-50.0, 0.0, 10.0], [-19.0, 0.0, 10.0], [12.0, 0.0, 10.0], [43.0, 0.0, 10.0]]\n",
    "axis = [[0.0, 0.0, 1.0], [0.0, 0.0, 1.0], [0.0, 0.0, 1.0], [0.0, 0.0, 1.0], [0.0, 0.0, 1.0]]\n",
    "axis_range = [[0.0, 0.0], [-np.pi/3.0, np.pi/3.0], [-np.pi/3.0, np.pi/3.0], [-np.pi/3.0, np.pi/3.0], [-np.pi/3.0, np.pi/3.0]]\n",
    "root_idx = [None, 0, 1, 2, 3]\n",
    "data = {'stl': stl, 'joint': joint, 'axis': axis, 'axis_range': axis_range, 'root_idx': root_idx}\n",
    "        \n",
    "with open(\"snake9_info.json\", \"w\") as json_file:\n",
    "    json.dump(data, json_file) "
   ]
  },
  {
   "cell_type": "code",
   "execution_count": 22,
   "metadata": {},
   "outputs": [],
   "source": [
    "import json\n",
    "import numpy as np\n",
    "\n",
    "stl = ['link0.stl', 'link1.stl', 'link2.stl', 'link3.stl']\n",
    "joint = [[0.0, 0.0, 0.0], [-50.0, 0.0, 10.0], [-19.0, 0.0, 10.0], [12.0, 0.0, 10.0]]\n",
    "axis = [[0.0, 0.0, 1.0], [0.0, 0.0, 1.0], [0.0, 0.0, 1.0], [0.0, 0.0, 1.0]]\n",
    "axis_range = [[0.0, 0.0], [-np.pi/3.0, np.pi/3.0], [-np.pi/3.0, np.pi/3.0], [-np.pi/3.0, np.pi/3.0]]\n",
    "root_idx = [None, 0, 1, 2]\n",
    "data = {'stl': stl, 'joint': joint, 'axis': axis, 'axis_range': axis_range, 'root_idx': root_idx}\n",
    "        \n",
    "with open(\"snake10_info.json\", \"w\") as json_file:\n",
    "    json.dump(data, json_file) "
   ]
  },
  {
   "cell_type": "code",
   "execution_count": 23,
   "metadata": {},
   "outputs": [],
   "source": [
    "import json\n",
    "import numpy as np\n",
    "\n",
    "stl = ['link0.stl', 'link1.stl']\n",
    "joint = [[0.0, 0.0, 0.0], [1.59, -28.50, 81.50]]\n",
    "axis = [[0.0, 0.0, 1.0], [0.0, 1.0, 0.0]]\n",
    "axis_range = [[0.0, 0.0], [-np.pi, np.pi]]\n",
    "root_idx = [None, 0]\n",
    "data = {'stl': stl, 'joint': joint, 'axis': axis, 'axis_range': axis_range, 'root_idx': root_idx}\n",
    "        \n",
    "with open(\"fan0_info.json\", \"w\") as json_file:\n",
    "    json.dump(data, json_file) "
   ]
  },
  {
   "cell_type": "code",
   "execution_count": 24,
   "metadata": {},
   "outputs": [],
   "source": [
    "import json\n",
    "import numpy as np\n",
    "\n",
    "stl = ['link0.stl', 'link1.stl']\n",
    "joint = [[0.0, 0.0, 0.0], [1.59, -28.50, 81.50]]\n",
    "axis = [[0.0, 0.0, 1.0], [0.0, 1.0, 0.0]]\n",
    "axis_range = [[0.0, 0.0], [-np.pi, np.pi]]\n",
    "root_idx = [None, 0]\n",
    "data = {'stl': stl, 'joint': joint, 'axis': axis, 'axis_range': axis_range, 'root_idx': root_idx}\n",
    "        \n",
    "with open(\"fan1_info.json\", \"w\") as json_file:\n",
    "    json.dump(data, json_file) "
   ]
  },
  {
   "cell_type": "code",
   "execution_count": 25,
   "metadata": {},
   "outputs": [],
   "source": [
    "import json\n",
    "import numpy as np\n",
    "\n",
    "stl = ['link0.stl', 'link1.stl']\n",
    "joint = [[0.0, 0.0, 0.0], [-20.0, 0.0, 34.37]]\n",
    "axis = [[0.0, 0.0, 1.0], [1,0, 0.0, 0.0]]\n",
    "axis_range = [[0.0, 0.0], [-np.pi, np.pi]]\n",
    "root_idx = [None, 0]\n",
    "data = {'stl': stl, 'joint': joint, 'axis': axis, 'axis_range': axis_range, 'root_idx': root_idx}\n",
    "        \n",
    "with open(\"fan2_info.json\", \"w\") as json_file:\n",
    "    json.dump(data, json_file)   "
   ]
  },
  {
   "cell_type": "code",
   "execution_count": 26,
   "metadata": {},
   "outputs": [],
   "source": [
    "import json\n",
    "import numpy as np\n",
    "\n",
    "stl = ['link0.stl', 'link1.stl']\n",
    "joint = [[0.0, 0.0, 0.0], [-20.0, 0.0, 34.37]]\n",
    "axis = [[0.0, 0.0, 1.0], [1,0, 0.0, 0.0]]\n",
    "axis_range = [[0.0, 0.0], [-np.pi, np.pi]]\n",
    "root_idx = [None, 0]\n",
    "data = {'stl': stl, 'joint': joint, 'axis': axis, 'axis_range': axis_range, 'root_idx': root_idx}\n",
    "        \n",
    "with open(\"fan3_info.json\", \"w\") as json_file:\n",
    "    json.dump(data, json_file)   "
   ]
  },
  {
   "cell_type": "code",
   "execution_count": 28,
   "metadata": {},
   "outputs": [],
   "source": [
    "import json\n",
    "import numpy as np\n",
    "\n",
    "stl = ['link0.stl', 'link1.stl']\n",
    "joint = [[0.0, 0.0, 0.0], [-9.73, -0.39, 28.57]]\n",
    "axis = [[0.0, 0.0, 1.0], [0.0, 0.0, 1.0]]\n",
    "axis_range = [[0.0, 0.0], [-np.pi, np.pi]]\n",
    "root_idx = [None, 0]\n",
    "data = {'stl': stl, 'joint': joint, 'axis': axis, 'axis_range': axis_range, 'root_idx': root_idx}\n",
    "        \n",
    "with open(\"fan4_info.json\", \"w\") as json_file:\n",
    "    json.dump(data, json_file)    "
   ]
  },
  {
   "cell_type": "code",
   "execution_count": 29,
   "metadata": {},
   "outputs": [],
   "source": [
    "import json\n",
    "import numpy as np\n",
    "\n",
    "stl = ['link0.stl', 'link1.stl']\n",
    "joint = [[0.0, 0.0, 0.0], [-9.73, -0.39, 28.57]]\n",
    "axis = [[0.0, 0.0, 1.0], [0.0, 0.0, 1.0]]\n",
    "axis_range = [[0.0, 0.0], [-np.pi, np.pi]]\n",
    "root_idx = [None, 0]\n",
    "data = {'stl': stl, 'joint': joint, 'axis': axis, 'axis_range': axis_range, 'root_idx': root_idx}\n",
    "        \n",
    "with open(\"fan5_info.json\", \"w\") as json_file:\n",
    "    json.dump(data, json_file)   "
   ]
  },
  {
   "cell_type": "code",
   "execution_count": 31,
   "metadata": {},
   "outputs": [],
   "source": [
    "import json\n",
    "import numpy as np\n",
    "\n",
    "stl = ['link0.stl', 'link1.stl']\n",
    "joint = [[0.0, 0.0, 0.0], [15.0, 1.5, 65.0]]\n",
    "axis = [[0.0, 0.0, 1.0], [1.0, 0.0, 0.0]]\n",
    "axis_range = [[0.0, 0.0], [-np.pi, np.pi]]\n",
    "root_idx = [None, 0]\n",
    "data = {'stl': stl, 'joint': joint, 'axis': axis, 'axis_range': axis_range, 'root_idx': root_idx}\n",
    "        \n",
    "with open(\"fan6_info.json\", \"w\") as json_file:\n",
    "    json.dump(data, json_file)  "
   ]
  },
  {
   "cell_type": "code",
   "execution_count": 32,
   "metadata": {},
   "outputs": [],
   "source": [
    "import json\n",
    "import numpy as np\n",
    "\n",
    "stl = ['link0.stl', 'link1.stl']\n",
    "joint = [[0.0, 0.0, 0.0], [0.5, -11.01, 33.25]]\n",
    "axis = [[0.0, 0.0, 1.0], [0.0, 1.0, 0.0]]\n",
    "axis_range = [[0.0, 0.0], [-np.pi, np.pi]]\n",
    "root_idx = [None, 0]\n",
    "data = {'stl': stl, 'joint': joint, 'axis': axis, 'axis_range': axis_range, 'root_idx': root_idx}\n",
    "        \n",
    "with open(\"fan7_info.json\", \"w\") as json_file:\n",
    "    json.dump(data, json_file)  "
   ]
  },
  {
   "cell_type": "code",
   "execution_count": 33,
   "metadata": {},
   "outputs": [],
   "source": [
    "import json\n",
    "import numpy as np\n",
    "\n",
    "stl = ['link0.stl', 'link1.stl']\n",
    "joint = [[0.0, 0.0, 0.0], [15.0, 1.5, 65.0]]\n",
    "axis = [[0.0, 0.0, 1.0], [1.0, 0.0, 0.0]]\n",
    "axis_range = [[0.0, 0.0], [-np.pi, np.pi]]\n",
    "root_idx = [None, 0]\n",
    "data = {'stl': stl, 'joint': joint, 'axis': axis, 'axis_range': axis_range, 'root_idx': root_idx}\n",
    "        \n",
    "with open(\"fan8_info.json\", \"w\") as json_file:\n",
    "    json.dump(data, json_file)  "
   ]
  },
  {
   "cell_type": "code",
   "execution_count": null,
   "metadata": {},
   "outputs": [],
   "source": []
  }
 ],
 "metadata": {
  "kernelspec": {
   "display_name": "Python 3",
   "language": "python",
   "name": "python3"
  },
  "language_info": {
   "codemirror_mode": {
    "name": "ipython",
    "version": 3
   },
   "file_extension": ".py",
   "mimetype": "text/x-python",
   "name": "python",
   "nbconvert_exporter": "python",
   "pygments_lexer": "ipython3",
   "version": "3.7.10"
  }
 },
 "nbformat": 4,
 "nbformat_minor": 4
}
