{
 "cells": [
  {
   "cell_type": "code",
   "execution_count": 7,
   "metadata": {},
   "outputs": [],
   "source": [
    "import open3d as o3d\n",
    "import numpy as np\n",
    "import copy\n",
    "\n",
    "base = o3d.io.read_triangle_mesh(\"models/ball_joint/ball_joint_base.stl\")\n",
    "base.paint_uniform_color([1.0, 0.0, 0.0])\n",
    "\n",
    "link = o3d.io.read_triangle_mesh(\"models/ball_joint/ball_joint_link.stl\")\n",
    "link.paint_uniform_color([0.0, 0.0, 1.0])\n",
    "\n",
    "link_joint = np.array([0.0, 0.0, 22.01])\n",
    "link_copy = copy.deepcopy(link)\n",
    "link_copy.paint_uniform_color([0.0, 1.0, 0.0])\n",
    "\n",
    "T = np.eye(4)\n",
    "T[0:3, 3] = -link_joint\n",
    "link_copy.transform(T)\n",
    "\n",
    "T = np.eye(4)\n",
    "T[:3, :3] = link_copy.get_rotation_matrix_from_xyz((np.pi/5.0, 0, 0))\n",
    "T[0:3, 3] = link_joint\n",
    "link_copy.transform(T)\n",
    "o3d.visualization.draw_geometries([base, link_copy])"
   ]
  },
  {
   "cell_type": "code",
   "execution_count": 6,
   "metadata": {},
   "outputs": [],
   "source": [
    "yourList = [base, link_copy]\n",
    "vertice_list = [mesh.vertices for mesh in yourList]\n",
    "faces_list = [mesh.triangles for mesh in yourList]\n",
    "faces_offset = np.cumsum([np.asarray(v).shape[0] for v in vertice_list])\n",
    "faces_offset = np.insert(faces_offset, 0, 0)[:-1]\n",
    "\n",
    "vertices = np.vstack(vertice_list)\n",
    "faces = np.vstack([face + offset for face, offset in zip(faces_list, faces_offset)])\n",
    "\n",
    "merged_meshes = o3d.geometry.TriangleMesh()\n",
    "merged_meshes.vertices = o3d.utility.Vector3dVector(vertices)\n",
    "merged_meshes.triangles = o3d.utility.Vector3iVector(faces)\n",
    "o3d.visualization.draw_geometries([merged_meshes])"
   ]
  },
  {
   "cell_type": "code",
   "execution_count": 11,
   "metadata": {},
   "outputs": [],
   "source": [
    "for i in range(0, 50):\n",
    "    link_copy = copy.deepcopy(link)\n",
    "    link_copy.paint_uniform_color([0.0, 1.0, 0.0])\n",
    "\n",
    "    T = np.eye(4)\n",
    "    T[0:3, 3] = -link_joint\n",
    "    link_copy.transform(T)\n",
    "\n",
    "    T = np.eye(4)\n",
    "    T[:3, :3] = link_copy.get_rotation_matrix_from_xyz((np.pi * np.random.random() - np.pi/2.0, 0, 0))\n",
    "    T[0:3, 3] = link_joint\n",
    "    link_copy.transform(T)\n",
    "\n",
    "    yourList = [base, link_copy]\n",
    "    vertice_list = [mesh.vertices for mesh in yourList]\n",
    "    faces_list = [mesh.triangles for mesh in yourList]\n",
    "    faces_offset = np.cumsum([np.asarray(v).shape[0] for v in vertice_list])\n",
    "    faces_offset = np.insert(faces_offset, 0, 0)[:-1]\n",
    "\n",
    "    vertices = np.vstack(vertice_list)\n",
    "    faces = np.vstack([face + offset for face, offset in zip(faces_list, faces_offset)])\n",
    "\n",
    "    merged_meshes = o3d.geometry.TriangleMesh()\n",
    "    merged_meshes.vertices = o3d.utility.Vector3dVector(vertices)\n",
    "    merged_meshes.triangles = o3d.utility.Vector3iVector(faces)\n",
    "    \n",
    "    o3d.io.write_triangle_mesh(\"balljoint/balljoint_%04d.off\"%(i), merged_meshes)"
   ]
  },
  {
   "cell_type": "code",
   "execution_count": null,
   "metadata": {},
   "outputs": [],
   "source": []
  }
 ],
 "metadata": {
  "kernelspec": {
   "display_name": "Python 3",
   "language": "python",
   "name": "python3"
  },
  "language_info": {
   "codemirror_mode": {
    "name": "ipython",
    "version": 3
   },
   "file_extension": ".py",
   "mimetype": "text/x-python",
   "name": "python",
   "nbconvert_exporter": "python",
   "pygments_lexer": "ipython3",
   "version": "3.5.6"
  }
 },
 "nbformat": 4,
 "nbformat_minor": 4
}
